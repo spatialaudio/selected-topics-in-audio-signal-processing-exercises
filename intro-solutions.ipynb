{
 "cells": [
  {
   "cell_type": "markdown",
   "metadata": {},
   "source": [
    "[back to intro](intro.ipynb)"
   ]
  },
  {
   "cell_type": "code",
   "execution_count": null,
   "metadata": {
    "execution": {
     "iopub.execute_input": "2020-11-26T11:33:47.603395Z",
     "iopub.status.busy": "2020-11-26T11:33:47.602947Z",
     "iopub.status.idle": "2020-11-26T11:33:47.673485Z",
     "shell.execute_reply": "2020-11-26T11:33:47.672985Z"
    }
   },
   "outputs": [],
   "source": [
    "import numpy as np"
   ]
  },
  {
   "cell_type": "code",
   "execution_count": null,
   "metadata": {
    "execution": {
     "iopub.execute_input": "2020-11-26T11:33:47.682549Z",
     "iopub.status.busy": "2020-11-26T11:33:47.682012Z",
     "iopub.status.idle": "2020-11-26T11:33:47.684763Z",
     "shell.execute_reply": "2020-11-26T11:33:47.685237Z"
    }
   },
   "outputs": [],
   "source": [
    "np.arange(6)"
   ]
  },
  {
   "cell_type": "code",
   "execution_count": null,
   "metadata": {
    "execution": {
     "iopub.execute_input": "2020-11-26T11:33:47.689371Z",
     "iopub.status.busy": "2020-11-26T11:33:47.688695Z",
     "iopub.status.idle": "2020-11-26T11:33:47.691406Z",
     "shell.execute_reply": "2020-11-26T11:33:47.691835Z"
    }
   },
   "outputs": [],
   "source": [
    "np.arange(0, 0.6, 0.1), np.arange(6) * 0.1  # two possibilities"
   ]
  },
  {
   "cell_type": "code",
   "execution_count": null,
   "metadata": {
    "execution": {
     "iopub.execute_input": "2020-11-26T11:33:47.695690Z",
     "iopub.status.busy": "2020-11-26T11:33:47.695130Z",
     "iopub.status.idle": "2020-11-26T11:33:47.697633Z",
     "shell.execute_reply": "2020-11-26T11:33:47.698047Z"
    }
   },
   "outputs": [],
   "source": [
    "np.arange(0.5, 1.1, 0.1), \"<-- wrong result!\""
   ]
  },
  {
   "cell_type": "code",
   "execution_count": null,
   "metadata": {
    "execution": {
     "iopub.execute_input": "2020-11-26T11:33:47.701484Z",
     "iopub.status.busy": "2020-11-26T11:33:47.700932Z",
     "iopub.status.idle": "2020-11-26T11:33:47.703364Z",
     "shell.execute_reply": "2020-11-26T11:33:47.703868Z"
    }
   },
   "outputs": [],
   "source": [
    "np.arange(5, 11) * 0.1, \"<-- that's right!\""
   ]
  },
  {
   "cell_type": "code",
   "execution_count": null,
   "metadata": {
    "execution": {
     "iopub.execute_input": "2020-11-26T11:33:47.707555Z",
     "iopub.status.busy": "2020-11-26T11:33:47.706983Z",
     "iopub.status.idle": "2020-11-26T11:33:47.709538Z",
     "shell.execute_reply": "2020-11-26T11:33:47.710027Z"
    }
   },
   "outputs": [],
   "source": [
    "np.linspace(0, 6, 7)"
   ]
  },
  {
   "cell_type": "code",
   "execution_count": null,
   "metadata": {
    "execution": {
     "iopub.execute_input": "2020-11-26T11:33:47.714270Z",
     "iopub.status.busy": "2020-11-26T11:33:47.713656Z",
     "iopub.status.idle": "2020-11-26T11:33:47.716157Z",
     "shell.execute_reply": "2020-11-26T11:33:47.716638Z"
    }
   },
   "outputs": [],
   "source": [
    "np.linspace(0, 6, 6, endpoint=False), np.linspace(0, 5, 6)  # two possibilities"
   ]
  },
  {
   "cell_type": "code",
   "execution_count": null,
   "metadata": {
    "execution": {
     "iopub.execute_input": "2020-11-26T11:33:47.720624Z",
     "iopub.status.busy": "2020-11-26T11:33:47.720081Z",
     "iopub.status.idle": "2020-11-26T11:33:47.722466Z",
     "shell.execute_reply": "2020-11-26T11:33:47.722939Z"
    }
   },
   "outputs": [],
   "source": [
    "np.linspace(0, 0.6, 6, endpoint=False), np.linspace(0, 0.5, 6)  # again two possibilities"
   ]
  },
  {
   "cell_type": "code",
   "execution_count": null,
   "metadata": {
    "execution": {
     "iopub.execute_input": "2020-11-26T11:33:47.727301Z",
     "iopub.status.busy": "2020-11-26T11:33:47.726666Z",
     "iopub.status.idle": "2020-11-26T11:33:47.729776Z",
     "shell.execute_reply": "2020-11-26T11:33:47.729295Z"
    }
   },
   "outputs": [],
   "source": [
    "np.linspace(0.5, 1.1, 6, endpoint=False), np.linspace(0.5, 1, 6)  # and again ..."
   ]
  },
  {
   "cell_type": "markdown",
   "metadata": {},
   "source": [
    "If the number of elements is known and the step size should be obtained automatically $\\Rightarrow$ `np.linspace()`  \n",
    "If the step size is known an if it's an integer and the number of elements should be obtained automatically $\\Rightarrow$ `np.arange()`\n",
    "\n",
    "If the step size is not an integer:\n",
    "\n",
    "* If the step size is a fraction of integers, you can use `np.arange()` with integers and divide the result accordingly.\n",
    "\n",
    "* If that's not feasible, calculate the expected number of elements beforehand and use `np.linspace()`"
   ]
  },
  {
   "cell_type": "code",
   "execution_count": null,
   "metadata": {
    "execution": {
     "iopub.execute_input": "2020-11-26T11:33:47.733216Z",
     "iopub.status.busy": "2020-11-26T11:33:47.732704Z",
     "iopub.status.idle": "2020-11-26T11:33:47.736396Z",
     "shell.execute_reply": "2020-11-26T11:33:47.736830Z"
    }
   },
   "outputs": [],
   "source": [
    "dur, amp, freq, fs = 1, 0.3, 500, 44100\n",
    "t = np.arange(np.ceil(dur * fs)) / fs\n",
    "y = amp * np.sin(2 * np.pi * freq * t)"
   ]
  },
  {
   "cell_type": "markdown",
   "metadata": {},
   "source": [
    "alternative (but inferior) methods to get $t$:"
   ]
  },
  {
   "cell_type": "code",
   "execution_count": null,
   "metadata": {
    "execution": {
     "iopub.execute_input": "2020-11-26T11:33:47.740670Z",
     "iopub.status.busy": "2020-11-26T11:33:47.740071Z",
     "iopub.status.idle": "2020-11-26T11:33:47.743116Z",
     "shell.execute_reply": "2020-11-26T11:33:47.742617Z"
    }
   },
   "outputs": [],
   "source": [
    "t1 = np.arange(0, dur, 1/fs)  # implicit rounding of dur!\n",
    "t2 = np.arange(0, np.round(dur), 1/fs)  # still problematic: arange with floats\n",
    "# wrong if dur isn't an integer multiple of 1/fs:\n",
    "t3 = np.linspace(0, dur, np.round(dur * fs), endpoint=False)"
   ]
  },
  {
   "cell_type": "markdown",
   "metadata": {},
   "source": [
    "Length of `y` must be *exactly* 44100 (using a half-open interval for $t$), not 44101 (which would be longer than 1 second).\n",
    "\n",
    "Plotting: 2 ways to zoom (there are probably more): draw a rectangle, drag with the right mouse button in pan/zoom mode.\n",
    "\n",
    "Clicks? Because of discontinuities (also in the derivatives) $\\Rightarrow$ Fade in/out! See [tools.fade()](tools.py)."
   ]
  },
  {
   "cell_type": "code",
   "execution_count": null,
   "metadata": {
    "execution": {
     "iopub.execute_input": "2020-11-26T11:33:47.746911Z",
     "iopub.status.busy": "2020-11-26T11:33:47.746393Z",
     "iopub.status.idle": "2020-11-26T11:33:48.033295Z",
     "shell.execute_reply": "2020-11-26T11:33:48.033691Z"
    }
   },
   "outputs": [],
   "source": [
    "import sounddevice as sd\n",
    "import tools\n",
    "\n",
    "def myplay(data):\n",
    "    \"\"\"Apply fade in/out and play with 44.1 kHz.\"\"\"\n",
    "    data = tools.fade(data, 2000, 5000)\n",
    "    sd.play(data, 44100)"
   ]
  },
  {
   "cell_type": "code",
   "execution_count": null,
   "metadata": {
    "execution": {
     "iopub.execute_input": "2020-11-26T11:33:48.036525Z",
     "iopub.status.busy": "2020-11-26T11:33:48.035952Z",
     "iopub.status.idle": "2020-11-26T11:33:48.045209Z",
     "shell.execute_reply": "2020-11-26T11:33:48.045629Z"
    }
   },
   "outputs": [],
   "source": [
    "myplay(y)"
   ]
  },
  {
   "cell_type": "code",
   "execution_count": null,
   "metadata": {
    "execution": {
     "iopub.execute_input": "2020-11-26T11:33:48.049041Z",
     "iopub.status.busy": "2020-11-26T11:33:48.048600Z",
     "iopub.status.idle": "2020-11-26T11:33:48.050355Z",
     "shell.execute_reply": "2020-11-26T11:33:48.050741Z"
    }
   },
   "outputs": [],
   "source": [
    "def mysine(frequency, amplitude, duration):\n",
    "    \"\"\"Generate sine tone with the given parameters @ 44.1 kHz.\"\"\"\n",
    "    samplerate = 44100\n",
    "    times = np.arange(np.ceil(duration * samplerate)) / samplerate\n",
    "    return amplitude * np.sin(2 * np.pi * frequency * times)"
   ]
  },
  {
   "cell_type": "code",
   "execution_count": null,
   "metadata": {
    "execution": {
     "iopub.execute_input": "2020-11-26T11:33:48.053317Z",
     "iopub.status.busy": "2020-11-26T11:33:48.052899Z",
     "iopub.status.idle": "2020-11-26T11:33:48.057524Z",
     "shell.execute_reply": "2020-11-26T11:33:48.057918Z"
    }
   },
   "outputs": [],
   "source": [
    "z = mysine(440, 0.4, 3)"
   ]
  },
  {
   "cell_type": "code",
   "execution_count": null,
   "metadata": {
    "execution": {
     "iopub.execute_input": "2020-11-26T11:33:48.060706Z",
     "iopub.status.busy": "2020-11-26T11:33:48.060315Z",
     "iopub.status.idle": "2020-11-26T11:33:48.194226Z",
     "shell.execute_reply": "2020-11-26T11:33:48.194655Z"
    }
   },
   "outputs": [],
   "source": [
    "myplay(z)"
   ]
  },
  {
   "cell_type": "code",
   "execution_count": null,
   "metadata": {
    "execution": {
     "iopub.execute_input": "2020-11-26T11:33:48.198777Z",
     "iopub.status.busy": "2020-11-26T11:33:48.198371Z",
     "iopub.status.idle": "2020-11-26T11:33:48.353424Z",
     "shell.execute_reply": "2020-11-26T11:33:48.353003Z"
    }
   },
   "outputs": [],
   "source": [
    "%matplotlib\n",
    "import matplotlib.pyplot as plt\n",
    "\n",
    "def myplot(data):\n",
    "    \"\"\"Create a simple plot @ 44.1 kHz.\"\"\"\n",
    "    samplerate = 44100\n",
    "    times = np.arange(len(data)) / samplerate\n",
    "    plt.plot(times, data)\n",
    "    plt.xlabel(\"Time / Seconds\")"
   ]
  },
  {
   "cell_type": "code",
   "execution_count": null,
   "metadata": {
    "execution": {
     "iopub.execute_input": "2020-11-26T11:33:48.355601Z",
     "iopub.status.busy": "2020-11-26T11:33:48.355189Z",
     "iopub.status.idle": "2020-11-26T11:33:48.489467Z",
     "shell.execute_reply": "2020-11-26T11:33:48.489864Z"
    }
   },
   "outputs": [],
   "source": [
    "myplot(mysine(440, 0.4, 3))"
   ]
  },
  {
   "cell_type": "code",
   "execution_count": null,
   "metadata": {
    "execution": {
     "iopub.execute_input": "2020-11-26T11:33:48.494230Z",
     "iopub.status.busy": "2020-11-26T11:33:48.493709Z",
     "iopub.status.idle": "2020-11-26T11:33:48.506181Z",
     "shell.execute_reply": "2020-11-26T11:33:48.506591Z"
    }
   },
   "outputs": [],
   "source": [
    "import soundfile as sf\n",
    "\n",
    "dur, amp = 1, 0.3\n",
    "frequencies = 400, 500, 600  # Hz\n",
    "fadetime = 2000  # samples\n",
    "\n",
    "for freq in frequencies:\n",
    "    sig = mysine(freq, amp, dur)\n",
    "    sig = tools.fade(sig, fadetime)\n",
    "    sf.write(\"sine_{}hz.wav\".format(freq), sig, 44100)"
   ]
  },
  {
   "cell_type": "code",
   "execution_count": null,
   "metadata": {
    "execution": {
     "iopub.execute_input": "2020-11-26T11:33:48.511752Z",
     "iopub.status.busy": "2020-11-26T11:33:48.511297Z",
     "iopub.status.idle": "2020-11-26T11:33:48.522679Z",
     "shell.execute_reply": "2020-11-26T11:33:48.522282Z"
    }
   },
   "outputs": [],
   "source": [
    "from scipy import signal\n",
    "\n",
    "f0, f1 = 100, 5000  # Hz\n",
    "amp = 0.2\n",
    "dur = 2  # seconds\n",
    "fadetime = 2000  # samples\n",
    "fs = 44100\n",
    "\n",
    "t = np.arange(np.ceil(dur * fs)) / fs\n",
    "\n",
    "for method in 'linear', 'log':\n",
    "    sweep = amp * signal.chirp(t, f0, dur, f1, method)\n",
    "    sweep = tools.fade(sweep, fadetime)\n",
    "    sf.write('sweep_{}.wav'.format(method), sweep, fs)"
   ]
  },
  {
   "cell_type": "code",
   "execution_count": null,
   "metadata": {
    "execution": {
     "iopub.execute_input": "2020-11-26T11:33:48.526439Z",
     "iopub.status.busy": "2020-11-26T11:33:48.525829Z",
     "iopub.status.idle": "2020-11-26T11:33:48.531259Z",
     "shell.execute_reply": "2020-11-26T11:33:48.531664Z"
    }
   },
   "outputs": [],
   "source": [
    "sinetone = mysine(frequency=500, amplitude=0.3, duration=1.5)\n",
    "noise = np.random.normal(scale=0.1, size=len(sinetone))\n",
    "sine_plus_noise = sinetone + noise"
   ]
  },
  {
   "cell_type": "code",
   "execution_count": null,
   "metadata": {
    "execution": {
     "iopub.execute_input": "2020-11-26T11:33:48.534478Z",
     "iopub.status.busy": "2020-11-26T11:33:48.534004Z",
     "iopub.status.idle": "2020-11-26T11:33:48.666042Z",
     "shell.execute_reply": "2020-11-26T11:33:48.666455Z"
    }
   },
   "outputs": [],
   "source": [
    "myplay(sine_plus_noise)"
   ]
  },
  {
   "cell_type": "code",
   "execution_count": null,
   "metadata": {
    "execution": {
     "iopub.execute_input": "2020-11-26T11:33:48.669054Z",
     "iopub.status.busy": "2020-11-26T11:33:48.668638Z",
     "iopub.status.idle": "2020-11-26T11:33:48.674610Z",
     "shell.execute_reply": "2020-11-26T11:33:48.674095Z"
    }
   },
   "outputs": [],
   "source": [
    "myplot(sine_plus_noise)"
   ]
  },
  {
   "cell_type": "code",
   "execution_count": null,
   "metadata": {
    "execution": {
     "iopub.execute_input": "2020-11-26T11:33:48.678105Z",
     "iopub.status.busy": "2020-11-26T11:33:48.677704Z",
     "iopub.status.idle": "2020-11-26T11:33:48.683616Z",
     "shell.execute_reply": "2020-11-26T11:33:48.683169Z"
    }
   },
   "outputs": [],
   "source": [
    "dur = 2\n",
    "amp = 0.2\n",
    "\n",
    "two_sines = mysine(500, amp, dur) + mysine(507, amp, dur)"
   ]
  },
  {
   "cell_type": "code",
   "execution_count": null,
   "metadata": {
    "execution": {
     "iopub.execute_input": "2020-11-26T11:33:48.686190Z",
     "iopub.status.busy": "2020-11-26T11:33:48.685798Z",
     "iopub.status.idle": "2020-11-26T11:33:48.819297Z",
     "shell.execute_reply": "2020-11-26T11:33:48.819738Z"
    }
   },
   "outputs": [],
   "source": [
    "myplay(two_sines)"
   ]
  },
  {
   "cell_type": "code",
   "execution_count": null,
   "metadata": {
    "execution": {
     "iopub.execute_input": "2020-11-26T11:33:48.822503Z",
     "iopub.status.busy": "2020-11-26T11:33:48.821855Z",
     "iopub.status.idle": "2020-11-26T11:33:48.828560Z",
     "shell.execute_reply": "2020-11-26T11:33:48.828133Z"
    }
   },
   "outputs": [],
   "source": [
    "myplot(two_sines)"
   ]
  },
  {
   "cell_type": "markdown",
   "metadata": {},
   "source": [
    "Two sine tones with similar frequencies create \"beats\", see <http://en.wikipedia.org/wiki/Beat_(acoustics)>.\n",
    "The sum of these two tones is equivalent to an amplitude modulation with a carrier frequency of $\\frac{f_1+f_2}{2}$ and a modulation frequency of $\\frac{f_1-f_2}{2}$.\n",
    "\n",
    "$$\\cos(2\\pi f_1t)+\\cos(2\\pi f_2t) = 2\\cos\\left(2\\pi\\frac{f_1+f_2}{2}t\\right)\\cos\\left(2\\pi\\frac{f_1-f_2}{2}t\\right)$$\n",
    "\n",
    "We don't really *hear* the modulation frequency itself, we only hear the envelope of the modulation, therefore the *perceived* beat frequency is $f_{\\text{beat}} = f_1-f_2$."
   ]
  },
  {
   "cell_type": "code",
   "execution_count": null,
   "metadata": {
    "execution": {
     "iopub.execute_input": "2020-11-26T11:33:48.831619Z",
     "iopub.status.busy": "2020-11-26T11:33:48.831226Z",
     "iopub.status.idle": "2020-11-26T11:33:48.837265Z",
     "shell.execute_reply": "2020-11-26T11:33:48.836832Z"
    }
   },
   "outputs": [],
   "source": [
    "stereo_sines = np.column_stack([mysine(400, amp, dur), mysine(600, amp, dur)])"
   ]
  },
  {
   "cell_type": "code",
   "execution_count": null,
   "metadata": {
    "execution": {
     "iopub.execute_input": "2020-11-26T11:33:48.839779Z",
     "iopub.status.busy": "2020-11-26T11:33:48.839353Z",
     "iopub.status.idle": "2020-11-26T11:33:48.974782Z",
     "shell.execute_reply": "2020-11-26T11:33:48.975409Z"
    }
   },
   "outputs": [],
   "source": [
    "myplay(stereo_sines)"
   ]
  },
  {
   "cell_type": "markdown",
   "metadata": {},
   "source": [
    "The first column should be the left channel!"
   ]
  },
  {
   "cell_type": "code",
   "execution_count": null,
   "metadata": {
    "execution": {
     "iopub.execute_input": "2020-11-26T11:33:48.980629Z",
     "iopub.status.busy": "2020-11-26T11:33:48.980034Z",
     "iopub.status.idle": "2020-11-26T11:33:48.984377Z",
     "shell.execute_reply": "2020-11-26T11:33:48.984815Z"
    }
   },
   "outputs": [],
   "source": [
    "dur, amp = 1, 0.3\n",
    "freq = 500  # Hz\n",
    "delay = 0.5  # ms\n",
    "fs = 44100\n",
    "\n",
    "t = np.arange(np.ceil(dur * fs)) / fs\n",
    "times = np.column_stack((t, t - delay/1000))\n",
    "sig = amp * np.sin(2 * np.pi * freq * times)"
   ]
  },
  {
   "cell_type": "code",
   "execution_count": null,
   "metadata": {
    "execution": {
     "iopub.execute_input": "2020-11-26T11:33:48.987847Z",
     "iopub.status.busy": "2020-11-26T11:33:48.987346Z",
     "iopub.status.idle": "2020-11-26T11:33:49.121985Z",
     "shell.execute_reply": "2020-11-26T11:33:49.122609Z"
    }
   },
   "outputs": [],
   "source": [
    "myplay(sig)"
   ]
  },
  {
   "cell_type": "code",
   "execution_count": null,
   "metadata": {
    "execution": {
     "iopub.execute_input": "2020-11-26T11:33:49.128226Z",
     "iopub.status.busy": "2020-11-26T11:33:49.127604Z",
     "iopub.status.idle": "2020-11-26T11:34:02.702923Z",
     "shell.execute_reply": "2020-11-26T11:34:02.702463Z"
    }
   },
   "outputs": [],
   "source": [
    "dur, amp = 0.5, 0.3\n",
    "frequencies = 500, 1000, 2000  # Hz\n",
    "delays = 0.6, 0.4, 0.2, 0, -0.2, -0.4, -0.6  # ms\n",
    "fs = 44100\n",
    "\n",
    "t = np.arange(np.ceil(dur * fs)) / fs\n",
    "\n",
    "for f in frequencies:\n",
    "    for delay in delays:\n",
    "        times = np.column_stack((t, t - delay/1000))\n",
    "        sig = amp * np.sin(2 * np.pi * f * times)\n",
    "        myplay(sig)\n",
    "        sd.wait()"
   ]
  },
  {
   "cell_type": "markdown",
   "metadata": {},
   "source": [
    "This is supposed to illustrate [Lord Rayleigh's Duplex Theory](http://en.wikipedia.org/wiki/Interaural_time_difference#Duplex_theory) (at least the part about time differences)."
   ]
  },
  {
   "cell_type": "code",
   "execution_count": null,
   "metadata": {
    "execution": {
     "iopub.execute_input": "2020-11-26T11:34:03.399002Z",
     "iopub.status.busy": "2020-11-26T11:34:03.398577Z",
     "iopub.status.idle": "2020-11-26T11:34:03.402005Z",
     "shell.execute_reply": "2020-11-26T11:34:03.401612Z"
    }
   },
   "outputs": [],
   "source": [
    "dur, amp = 2, 0.3\n",
    "frequencies = np.array([200, 400, 600, 800, 1000])\n",
    "fs = 44100\n",
    "t = np.arange(np.ceil(dur * fs)) / fs\n",
    "t.shape = -1, 1\n",
    "t"
   ]
  },
  {
   "cell_type": "code",
   "execution_count": null,
   "metadata": {
    "execution": {
     "iopub.execute_input": "2020-11-26T11:34:03.405594Z",
     "iopub.status.busy": "2020-11-26T11:34:03.405149Z",
     "iopub.status.idle": "2020-11-26T11:34:03.408010Z",
     "shell.execute_reply": "2020-11-26T11:34:03.407560Z"
    }
   },
   "outputs": [],
   "source": [
    "amplitudes = amp * 1 / np.arange(1, len(frequencies)+1)\n",
    "amplitudes"
   ]
  },
  {
   "cell_type": "code",
   "execution_count": null,
   "metadata": {
    "execution": {
     "iopub.execute_input": "2020-11-26T11:34:03.411149Z",
     "iopub.status.busy": "2020-11-26T11:34:03.410590Z",
     "iopub.status.idle": "2020-11-26T11:34:03.422635Z",
     "shell.execute_reply": "2020-11-26T11:34:03.422231Z"
    }
   },
   "outputs": [],
   "source": [
    "five_sines = amplitudes * np.sin(2 * np.pi * frequencies * t)\n",
    "five_sines.shape"
   ]
  },
  {
   "cell_type": "code",
   "execution_count": null,
   "metadata": {
    "execution": {
     "iopub.execute_input": "2020-11-26T11:34:03.425455Z",
     "iopub.status.busy": "2020-11-26T11:34:03.424992Z",
     "iopub.status.idle": "2020-11-26T11:34:03.428778Z",
     "shell.execute_reply": "2020-11-26T11:34:03.428363Z"
    }
   },
   "outputs": [],
   "source": [
    "sum_of_sines = five_sines.sum(axis=1)"
   ]
  },
  {
   "cell_type": "code",
   "execution_count": null,
   "metadata": {
    "execution": {
     "iopub.execute_input": "2020-11-26T11:34:03.431219Z",
     "iopub.status.busy": "2020-11-26T11:34:03.430827Z",
     "iopub.status.idle": "2020-11-26T11:34:03.438202Z",
     "shell.execute_reply": "2020-11-26T11:34:03.437709Z"
    }
   },
   "outputs": [],
   "source": [
    "myplot(sum_of_sines)"
   ]
  },
  {
   "cell_type": "code",
   "execution_count": null,
   "metadata": {
    "execution": {
     "iopub.execute_input": "2020-11-26T11:34:03.441462Z",
     "iopub.status.busy": "2020-11-26T11:34:03.440978Z",
     "iopub.status.idle": "2020-11-26T11:34:03.446641Z",
     "shell.execute_reply": "2020-11-26T11:34:03.447057Z"
    }
   },
   "outputs": [],
   "source": [
    "myplay(five_sines[:, [0, 1, 2, 3, 4]].sum(axis=1))"
   ]
  },
  {
   "cell_type": "code",
   "execution_count": null,
   "metadata": {
    "execution": {
     "iopub.execute_input": "2020-11-26T11:34:03.449966Z",
     "iopub.status.busy": "2020-11-26T11:34:03.449448Z",
     "iopub.status.idle": "2020-11-26T11:34:03.582791Z",
     "shell.execute_reply": "2020-11-26T11:34:03.583233Z"
    }
   },
   "outputs": [],
   "source": [
    "myplay(five_sines[:, [0, 1, 2, 3]].sum(axis=1))"
   ]
  },
  {
   "cell_type": "code",
   "execution_count": null,
   "metadata": {
    "execution": {
     "iopub.execute_input": "2020-11-26T11:34:03.586027Z",
     "iopub.status.busy": "2020-11-26T11:34:03.585565Z",
     "iopub.status.idle": "2020-11-26T11:34:03.717375Z",
     "shell.execute_reply": "2020-11-26T11:34:03.717770Z"
    }
   },
   "outputs": [],
   "source": [
    "myplay(five_sines[:, [0, 1, 2, 4]].sum(axis=1))"
   ]
  },
  {
   "cell_type": "code",
   "execution_count": null,
   "metadata": {
    "execution": {
     "iopub.execute_input": "2020-11-26T11:34:03.720549Z",
     "iopub.status.busy": "2020-11-26T11:34:03.720077Z",
     "iopub.status.idle": "2020-11-26T11:34:03.855071Z",
     "shell.execute_reply": "2020-11-26T11:34:03.855501Z"
    }
   },
   "outputs": [],
   "source": [
    "myplay(five_sines[:, [0, 1, 3, 4]].sum(axis=1))"
   ]
  },
  {
   "cell_type": "code",
   "execution_count": null,
   "metadata": {
    "execution": {
     "iopub.execute_input": "2020-11-26T11:34:03.858440Z",
     "iopub.status.busy": "2020-11-26T11:34:03.857946Z",
     "iopub.status.idle": "2020-11-26T11:34:03.991502Z",
     "shell.execute_reply": "2020-11-26T11:34:03.991944Z"
    }
   },
   "outputs": [],
   "source": [
    "myplay(five_sines[:, [0, 2, 3, 4]].sum(axis=1))"
   ]
  },
  {
   "cell_type": "code",
   "execution_count": null,
   "metadata": {
    "execution": {
     "iopub.execute_input": "2020-11-26T11:34:03.994886Z",
     "iopub.status.busy": "2020-11-26T11:34:03.994394Z",
     "iopub.status.idle": "2020-11-26T11:34:04.128560Z",
     "shell.execute_reply": "2020-11-26T11:34:04.128954Z"
    }
   },
   "outputs": [],
   "source": [
    "myplay(five_sines[:, [1, 2, 3, 4]].sum(axis=1))"
   ]
  },
  {
   "cell_type": "markdown",
   "metadata": {},
   "source": [
    "<https://en.wikipedia.org/wiki/Harmonic_series_(music)>"
   ]
  },
  {
   "cell_type": "code",
   "execution_count": null,
   "metadata": {
    "execution": {
     "iopub.execute_input": "2020-11-26T11:34:04.132418Z",
     "iopub.status.busy": "2020-11-26T11:34:04.131881Z",
     "iopub.status.idle": "2020-11-26T11:34:04.134620Z",
     "shell.execute_reply": "2020-11-26T11:34:04.134176Z"
    }
   },
   "outputs": [],
   "source": [
    "f0 = 200  # Hz\n",
    "partials = 20\n",
    "\n",
    "frequencies = f0 * np.arange(1, partials + 1)\n",
    "frequencies"
   ]
  },
  {
   "cell_type": "code",
   "execution_count": null,
   "metadata": {
    "execution": {
     "iopub.execute_input": "2020-11-26T11:34:04.137861Z",
     "iopub.status.busy": "2020-11-26T11:34:04.137306Z",
     "iopub.status.idle": "2020-11-26T11:34:04.140146Z",
     "shell.execute_reply": "2020-11-26T11:34:04.139727Z"
    }
   },
   "outputs": [],
   "source": [
    "amplitudes = amp * 1 / np.arange(1, len(frequencies)+1)\n",
    "amplitudes"
   ]
  },
  {
   "cell_type": "code",
   "execution_count": null,
   "metadata": {
    "execution": {
     "iopub.execute_input": "2020-11-26T11:34:04.142901Z",
     "iopub.status.busy": "2020-11-26T11:34:04.142458Z",
     "iopub.status.idle": "2020-11-26T11:34:04.178156Z",
     "shell.execute_reply": "2020-11-26T11:34:04.178555Z"
    }
   },
   "outputs": [],
   "source": [
    "many_sines = amplitudes * np.sin(2 * np.pi * frequencies * t)\n",
    "many_sines.shape"
   ]
  },
  {
   "cell_type": "code",
   "execution_count": null,
   "metadata": {
    "execution": {
     "iopub.execute_input": "2020-11-26T11:34:04.181232Z",
     "iopub.status.busy": "2020-11-26T11:34:04.180841Z",
     "iopub.status.idle": "2020-11-26T11:34:04.184987Z",
     "shell.execute_reply": "2020-11-26T11:34:04.184560Z"
    }
   },
   "outputs": [],
   "source": [
    "sawtooth = many_sines.sum(axis=1)"
   ]
  },
  {
   "cell_type": "code",
   "execution_count": null,
   "metadata": {
    "execution": {
     "iopub.execute_input": "2020-11-26T11:34:04.187927Z",
     "iopub.status.busy": "2020-11-26T11:34:04.187256Z",
     "iopub.status.idle": "2020-11-26T11:34:04.194145Z",
     "shell.execute_reply": "2020-11-26T11:34:04.194618Z"
    }
   },
   "outputs": [],
   "source": [
    "myplot(sawtooth)"
   ]
  },
  {
   "cell_type": "code",
   "execution_count": null,
   "metadata": {
    "execution": {
     "iopub.execute_input": "2020-11-26T11:34:04.197198Z",
     "iopub.status.busy": "2020-11-26T11:34:04.196807Z",
     "iopub.status.idle": "2020-11-26T11:34:04.331770Z",
     "shell.execute_reply": "2020-11-26T11:34:04.332391Z"
    }
   },
   "outputs": [],
   "source": [
    "myplay(sawtooth)"
   ]
  },
  {
   "cell_type": "markdown",
   "metadata": {},
   "source": [
    "https://en.wikipedia.org/wiki/Sawtooth_wave"
   ]
  },
  {
   "cell_type": "code",
   "execution_count": null,
   "metadata": {
    "execution": {
     "iopub.execute_input": "2020-11-26T11:34:04.335679Z",
     "iopub.status.busy": "2020-11-26T11:34:04.335268Z",
     "iopub.status.idle": "2020-11-26T11:34:04.340913Z",
     "shell.execute_reply": "2020-11-26T11:34:04.340419Z"
    }
   },
   "outputs": [],
   "source": [
    "square = many_sines[:, ::2].sum(axis=1)"
   ]
  },
  {
   "cell_type": "code",
   "execution_count": null,
   "metadata": {
    "execution": {
     "iopub.execute_input": "2020-11-26T11:34:04.343996Z",
     "iopub.status.busy": "2020-11-26T11:34:04.343366Z",
     "iopub.status.idle": "2020-11-26T11:34:04.350537Z",
     "shell.execute_reply": "2020-11-26T11:34:04.351384Z"
    }
   },
   "outputs": [],
   "source": [
    "myplot(square)"
   ]
  },
  {
   "cell_type": "code",
   "execution_count": null,
   "metadata": {
    "execution": {
     "iopub.execute_input": "2020-11-26T11:34:04.355547Z",
     "iopub.status.busy": "2020-11-26T11:34:04.355042Z",
     "iopub.status.idle": "2020-11-26T11:34:04.486085Z",
     "shell.execute_reply": "2020-11-26T11:34:04.486526Z"
    }
   },
   "outputs": [],
   "source": [
    "myplay(square)"
   ]
  },
  {
   "cell_type": "markdown",
   "metadata": {},
   "source": [
    "https://en.wikipedia.org/wiki/Square_wave"
   ]
  },
  {
   "cell_type": "markdown",
   "metadata": {},
   "source": [
    "<p xmlns:dct=\"http://purl.org/dc/terms/\">\n",
    "  <a rel=\"license\"\n",
    "     href=\"http://creativecommons.org/publicdomain/zero/1.0/\">\n",
    "    <img src=\"http://i.creativecommons.org/p/zero/1.0/88x31.png\" style=\"border-style: none;\" alt=\"CC0\" />\n",
    "  </a>\n",
    "  <br />\n",
    "  To the extent possible under law,\n",
    "  <span rel=\"dct:publisher\" resource=\"[_:publisher]\">the person who associated CC0</span>\n",
    "  with this work has waived all copyright and related or neighboring\n",
    "  rights to this work.\n",
    "</p>"
   ]
  }
 ],
 "metadata": {
  "kernelspec": {
   "display_name": "mystiasp",
   "language": "python",
   "name": "mystiasp"
  },
  "language_info": {
   "codemirror_mode": {
    "name": "ipython",
    "version": 3
   },
   "file_extension": ".py",
   "mimetype": "text/x-python",
   "name": "python",
   "nbconvert_exporter": "python",
   "pygments_lexer": "ipython3",
   "version": "3.7.8"
  }
 },
 "nbformat": 4,
 "nbformat_minor": 1
}
