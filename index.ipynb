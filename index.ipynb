{
 "cells": [
  {
   "cell_type": "markdown",
   "metadata": {},
   "source": [
    "# Selected Topics in Audio Signal Processing - Exercises\n",
    "\n",
    "This is the main page for the exercises accompanying the lecture \"Selected Topics in Audio Signal Processing\" at [Institute of Communications Engineering](http://www.int.uni-rostock.de/)/[Faculty of Computer Science and Electrical Engineering](http://www.ief.uni-rostock.de/)/[University of Rostock](http://www.uni-rostock.de/).\n",
    "\n",
    "Registered students can access course details via [StudIP](https://studip.uni-rostock.de/dispatch.php/course/overview?cid=d5c4067c02bb446300d90ba54e5eb1fb) and [LSF](https://lsf.uni-rostock.de/qisserver/rds?state=verpublish&status=init&vmfile=no&moduleCall=webInfo&publishConfFile=webInfo&publishSubDir=veranstaltung&veranstaltung.veranstid=83421).\n",
    "\n",
    "The lectures/exercises are held each winter semester, starting in 2015.\n",
    "\n",
    "The notebooks and all additional files should be considered as [Open Educational Resources](https://en.wikipedia.org/wiki/Open_educational_resources)."
   ]
  },
  {
   "cell_type": "markdown",
   "metadata": {},
   "source": [
    "## Table of Exercises\n",
    "\n",
    "The exercises are split into the following units.\n",
    "Most of them build upon knowledge from previous units, so you should do them in order:\n",
    "\n",
    "1. [Introduction to Python et al., Working with Audio Signals](intro.ipynb)\n",
    "2. [The Physics of Sound, Part I](physics_of_sound_I.ipynb)\n",
    "3. [The Physics of Sound, Part II](physics_of_sound_II.ipynb)\n",
    "4. [Linear Systems, Part I](linear_systems_I.ipynb)\n",
    "5. [Linear Systems, Part II](linear_systems_II.ipynb)\n",
    "6. [Microphones](microphones.ipynb)\n",
    "7. [Loudspeakers](loudspeakers.ipynb)\n",
    "8. [Sound Field Analysis](sound_field_analysis.ipynb)\n",
    "8. [Farfield Directivity Linear Array](farfield_directivity_ula.ipynb)\n",
    "9. [Sound Field Synthesis](sound_field_synthesis.ipynb)\n"
   ]
  },
  {
   "cell_type": "markdown",
   "metadata": {},
   "source": [
    "## Accessing the Exercises\n",
    "\n",
    "For the Exercises we use [jupyter notebooks](http://jupyter.org/). For accessing the notebooks, there are three alternatives:\n",
    "\n",
    "### Alternative 1: Static Web Pages\n",
    "\n",
    "The Jupyter notebooks for each topic are available as [static web pages](http://nbviewer.jupyter.org/github/spatialaudio/selected-topics-in-audio-signal-processing-exercises/). These are static html pages and you can't change them and try things out.\n",
    "\n",
    "### Alternative 2: Interactive Online Version \n",
    "\n",
    "If you don't feel like installing anything, but still want to try out the notebooks, you can\n",
    "\n",
    "[![Binder](http://mybinder.org/badge.svg)](http://mybinder.org/repo/fietew/selected-topics-in-audio-signal-processing-exercises) \n",
    "\n",
    "and start playing around immediately. Note, however, that your changes will not be preserved. Once you close your browser, everything will be lost!\n",
    "\n",
    "### Alternative 3: Use the Notebooks on your own Computer\n",
    "\n",
    "The most flexible alternative, as you can save your changes. However, you need to download and install some stuff in order to get things working on your machine.\n",
    "\n",
    "The information below might be outdated. Please have a look at readme.md\n",
    "\n",
    "https://github.com/spatialaudio/selected-topics-in-audio-signal-processing-exercises\n",
    "\n",
    "for more recent installation guide using terminal (checked for Mac OS)\n",
    "\n",
    "#### Install Python \n",
    "\n",
    "Make sure you always use Python 3!\n",
    "\n",
    "##### ... under Windows\n",
    "For Windows, we recommend to download [Anaconda](https://www.continuum.io/downloads), a multi-platform the Python distribution (make sure to choose Python version 3.x).\n",
    "\n",
    "##### ... under Linux\n",
    "You can also use [Anaconda](https://www.continuum.io/downloads). As an alternative, you can use the following commands to install the necessary packages (Debian/Ubuntu/...):\n",
    "\n",
    "    sudo apt-get update\n",
    "    sudo apt-get install python3 python3-pip python3-numpy python3-scipy python3-matplotlib python3-cffi libsndfile1 libportaudio2\n",
    "\n",
    "#### Get the Notebooks and Start Jupyter\n",
    "\n",
    "Download the current [zip file](https://github.com/spatialaudio/selected-topics-in-audio-signal-processing-exercises/archive/master.zip) (frequently updated) and extract it to an accessible directory. Alternatively, you can also download individual notebook files (with the extension `.ipynb`) from [github.com](https://github.com/spatialaudio/selected-topics-in-audio-signal-processing-exercises) and open them the Jupyter. Note, that some exercises make use of additional files (audio files etc.) which you'll then also have to download manually.\n",
    "\n",
    "##### ... under Windows\n",
    "\n",
    "Open the *Anaconda Prompt* (search for it the your start menu). Type the following commands (one after another):\n",
    "\n",
    "    cd path/to/extracted/zip/file\n",
    "    pip install -r requirements.txt\n",
    "    python -m notebook\n",
    "\n",
    "First, this installs a few Python libraries that we will use. Afterwards, this will open a new view in your web browser. Click on [intro.ipynb](intro.ipynb) (or any of the other available notebooks) and enjoy!\n",
    "\n",
    "##### ... under Linux\n",
    "\n",
    "Use the Python package management system [pip](http://www.pip-installer.org/) to install a few Python libraries that we will use and then start the Jupyter notebook:\n",
    "\n",
    "    cd path/to/extracted/zip/file\n",
    "    python3 -m pip install -r requirements.txt --user\n",
    "    python3 -m notebook\n",
    "    \n",
    "This will open a new view in your web browser with a list of notebooks. Click on [intro.ipynb](intro.ipynb) (or any of the other available notebooks) and enjoy!"
   ]
  },
  {
   "cell_type": "markdown",
   "metadata": {},
   "source": [
    "## Copyright Information\n",
    "\n",
    "<p xmlns:dct=\"http://purl.org/dc/terms/\">\n",
    "  <a rel=\"license\"\n",
    "     href=\"http://creativecommons.org/publicdomain/zero/1.0/\">\n",
    "    <img src=\"http://i.creativecommons.org/p/zero/1.0/88x31.png\" style=\"border-style: none;\" alt=\"CC0\" />\n",
    "  </a>\n",
    "  <br />\n",
    "  To the extent possible under law,\n",
    "  <span rel=\"dct:publisher\" resource=\"[_:publisher]\">the person who associated CC0</span>\n",
    "  with this work has waived all copyright and related or neighboring\n",
    "  rights to this work.\n",
    "</p>"
   ]
  }
 ],
 "metadata": {
  "kernelspec": {
   "display_name": "mystiasp",
   "language": "python",
   "name": "mystiasp"
  },
  "language_info": {
   "codemirror_mode": {
    "name": "ipython",
    "version": 3
   },
   "file_extension": ".py",
   "mimetype": "text/x-python",
   "name": "python",
   "nbconvert_exporter": "python",
   "pygments_lexer": "ipython3",
   "version": "3.7.8"
  }
 },
 "nbformat": 4,
 "nbformat_minor": 1
}
