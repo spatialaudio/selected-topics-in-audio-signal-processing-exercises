{
 "cells": [
  {
   "cell_type": "markdown",
   "metadata": {},
   "source": [
    "# The Physics of Sound, Part I - Solutions\n",
    "\n",
    "[back to exercise](physics_of_sound_I.ipynb)\n",
    "\n",
    "## Preparations\n",
    "\n",
    "For this exercise we need the [Sound Field Synthesis Toolbox for Python](http://python.sfstoolbox.org);"
   ]
  },
  {
   "cell_type": "code",
   "execution_count": null,
   "metadata": {
    "execution": {
     "iopub.execute_input": "2020-11-26T11:35:13.907062Z",
     "iopub.status.busy": "2020-11-26T11:35:13.906539Z",
     "iopub.status.idle": "2020-11-26T11:35:14.404878Z",
     "shell.execute_reply": "2020-11-26T11:35:14.404408Z"
    }
   },
   "outputs": [],
   "source": [
    "import sfs  # tested for 0.5.0"
   ]
  },
  {
   "cell_type": "markdown",
   "metadata": {},
   "source": [
    "And some other stuff:"
   ]
  },
  {
   "cell_type": "code",
   "execution_count": null,
   "metadata": {
    "execution": {
     "iopub.execute_input": "2020-11-26T11:35:14.409647Z",
     "iopub.status.busy": "2020-11-26T11:35:14.409264Z",
     "iopub.status.idle": "2020-11-26T11:35:14.411622Z",
     "shell.execute_reply": "2020-11-26T11:35:14.411136Z"
    }
   },
   "outputs": [],
   "source": [
    "# remove \"inline\" to get a separate plotting window:\n",
    "from numpy.core.umath_tests import inner1d\n",
    "import numpy as np\n",
    "import matplotlib.pyplot as plt\n",
    "%matplotlib inline"
   ]
  },
  {
   "cell_type": "markdown",
   "metadata": {},
   "source": [
    "A grid for computation and plotting:"
   ]
  },
  {
   "cell_type": "code",
   "execution_count": null,
   "metadata": {
    "execution": {
     "iopub.execute_input": "2020-11-26T11:35:14.415106Z",
     "iopub.status.busy": "2020-11-26T11:35:14.414657Z",
     "iopub.status.idle": "2020-11-26T11:35:14.416890Z",
     "shell.execute_reply": "2020-11-26T11:35:14.416458Z"
    }
   },
   "outputs": [],
   "source": [
    "grid = sfs.util.xyz_grid([-2, 2], [-2, 2], 0, spacing=0.01)"
   ]
  },
  {
   "cell_type": "markdown",
   "metadata": {},
   "source": [
    "*Exercise:* Use the help functionality of Python to find out what the function parameters mean. What does the third argument mean in our case? How many dimensions does our grid have?"
   ]
  },
  {
   "cell_type": "code",
   "execution_count": null,
   "metadata": {
    "execution": {
     "iopub.execute_input": "2020-11-26T11:35:14.421335Z",
     "iopub.status.busy": "2020-11-26T11:35:14.420901Z",
     "iopub.status.idle": "2020-11-26T11:35:14.423497Z",
     "shell.execute_reply": "2020-11-26T11:35:14.423093Z"
    }
   },
   "outputs": [],
   "source": [
    "grid.shape"
   ]
  },
  {
   "cell_type": "markdown",
   "metadata": {},
   "source": [
    "## Physical Quantities\n",
    "\n",
    "### Sound Pressure $p(\\mathbf x, t)$\n",
    "\n",
    "The acoustic sound pressure $p(\\mathbf x, t)$ is the fluaction of the static pressure inside a medium (e.g. air) and hence changes the distribution of the atoms/molecules (sound particles) in a deterministic manner. Let's plot this an illustration of this distribution."
   ]
  },
  {
   "cell_type": "code",
   "execution_count": null,
   "metadata": {
    "execution": {
     "iopub.execute_input": "2020-11-26T11:35:14.428912Z",
     "iopub.status.busy": "2020-11-26T11:35:14.428493Z",
     "iopub.status.idle": "2020-11-26T11:35:14.841166Z",
     "shell.execute_reply": "2020-11-26T11:35:14.841607Z"
    }
   },
   "outputs": [],
   "source": [
    "# create 10000 randomly distributed particles\n",
    "particles = [np.random.uniform(-2, 2, 10000),\n",
    "             np.random.uniform(-2, 2, 10000), 0]\n",
    "\n",
    "# particles without displacement\n",
    "plt.subplot(1, 2, 1)  # define left subplot\n",
    "sfs.plot2d.particles(particles, facecolor='black', s=2)\n",
    "plt.axis('square')\n",
    "plt.ylim(-2, 2)\n",
    "plt.xlim(-2, 2)\n",
    "plt.title('Particles no displacement')\n",
    "\n",
    "# particles with displacement\n",
    "n = [np.sqrt(2), np.sqrt(2), 0]  # direction of plane wave\n",
    "f = 343  # temporal frequency in Hz, wavelength 1 m\n",
    "omega = 2*np.pi*f  # angular frequency\n",
    "amplitude = 5e4  # unrealistically large to see an effect\n",
    "\n",
    "v = sfs.fd.source.plane_velocity(omega, [0, 0, 0], n, particles)\n",
    "particles = particles + amplitude * sfs.fd.displacement(v, omega)\n",
    "plt.subplot(1, 2, 2)  # define right subplot\n",
    "sfs.plot2d.particles(particles, facecolor='black', s=2)\n",
    "plt.axis('square')\n",
    "plt.ylim(-2, 2)\n",
    "plt.xlim(-2, 2)\n",
    "plt.title('Particles with displacement')\n",
    "plt.ylabel('')"
   ]
  },
  {
   "cell_type": "markdown",
   "metadata": {},
   "source": [
    "### Particle Velocity $\\mathbf v(\\mathbf x, t)$\n",
    "\n",
    "The particle velocity $\\mathbf v(\\mathbf x, t)$ describes the instantaneous velocity of a particle moving in the medium. Contrary to the sound pressure, the particle velocity is a vector field.\n",
    "\n",
    "*Exercise*: What is main difference between a scalar and vector field?  \n",
    "\n",
    "<font color='blue'>\n",
    "*While scalar field associates a scalar value to each point in space and time, a vector field assigns a vector with amplitude and direction to each point in space and time.*\n",
    "</font>\n",
    "\n",
    "## Relations between the Quantities\n",
    "\n",
    "### The Equation of State\n",
    "\n",
    "The Equation of State follows from the so-called *conservation of mass* principle combined with the idialized properties of the medium. It reads\n",
    "\n",
    "$$ -\\frac{\\partial p(\\mathbf x, t)}{\\partial t} = \\varrho_0 c^2 \\nabla \\cdot \\mathbf v(\\mathbf x, t)\\,,$$\n",
    "\n",
    "with $\\varrho_0$ and $c$ denoting the static volumentric density and speed of sound of the medium, respectively.\n",
    "\n",
    "*Exercise*: How does the speed of sound change $c$, if the medium is changed from air to water? Find the correct relation.\n",
    "\n",
    "<font color='blue'>\n",
    "$$c_{\\mathrm{air}}\\,<\\,c_{\\mathrm{water}}$$\n",
    "</font>\n",
    "\n",
    "*Exercise*: How is the $\\nabla$-operator defined in Cartesian coordinates? "
   ]
  },
  {
   "cell_type": "markdown",
   "metadata": {},
   "source": [
    "<font color='blue'>\n",
    "\n",
    "$$ \\nabla = \\begin{pmatrix} \\frac{\\partial}{\\partial x} \\\\ \\frac{\\partial}{\\partial y} \\\\ \\frac{\\partial}{\\partial z} \\end{pmatrix} $$\n",
    "</font>"
   ]
  },
  {
   "cell_type": "markdown",
   "metadata": {},
   "source": [
    "*Exercise*: What is its meaning when applied to a vector field?"
   ]
  },
  {
   "cell_type": "markdown",
   "metadata": {},
   "source": [
    "<font color='blue'>\n",
    "\n",
    "$$ \\nabla \\cdot \\mathbf f(\\mathbf x) \n",
    "    = \\nabla \\cdot \\begin{pmatrix} \n",
    "        f_x(\\mathbf x) \\\\\n",
    "        f_y(\\mathbf x) \\\\\n",
    "        f_z(\\mathbf x)\n",
    "      \\end{pmatrix}\n",
    "    = \\frac{\\partial f_x(\\mathbf x)}{\\partial x} +\n",
    "      \\frac{\\partial f_y(\\mathbf x)}{\\partial y} +\n",
    "      \\frac{\\partial f_z(\\mathbf x)}{\\partial z}\n",
    "$$\n",
    "\n",
    "</font>"
   ]
  },
  {
   "cell_type": "markdown",
   "metadata": {},
   "source": [
    "*Exercise*: What is the physical meaning of the Equation of State?\n",
    "\n",
    "<font color='blue'>\n",
    "\n",
    "*The right-hand-side of the Equation of State describes a change of the particle velocity w.r.t to space. Hence, the velocity of neighboring particles differs. This results in a change of the particle density over time as \"gaps\" between the particles occur. A change of the particle density causes a change of the sound pressure (left-hand-side).*\n",
    "\n",
    "</font>\n",
    "\n",
    "### Euler's Equation\n",
    "\n",
    "Euler's Equation follows from the so-called *conservation of momentum* principle and reads\n",
    "\n",
    "$$ -\\varrho_0 \\frac{\\partial \\mathbf v(\\mathbf x, t)}{\\partial t} =  \\nabla p(\\mathbf x, t) $$\n",
    "\n",
    "*Exercise*: What is the meaning of $\\nabla$-operator when being applied to a scalar or a scalar field?"
   ]
  },
  {
   "cell_type": "markdown",
   "metadata": {},
   "source": [
    "<font color='blue'>\n",
    "\n",
    "$$ \\nabla f(\\mathbf x) = \n",
    "   \\begin{pmatrix} \n",
    "       \\frac{\\partial f(\\mathbf x)}{\\partial x} \\\\\n",
    "       \\frac{\\partial f(\\mathbf x)}{\\partial y} \\\\\n",
    "       \\frac{\\partial f(\\mathbf x)}{\\partial z} \n",
    "   \\end{pmatrix}\n",
    "$$\n",
    "\n",
    "</font>"
   ]
  },
  {
   "cell_type": "markdown",
   "metadata": {},
   "source": [
    "*Exercise*: What is the physical meaning of Euler's Equation?\n",
    "\n",
    "<font color='blue'>\n",
    "\n",
    "*The right-hand-side of Euler's Equation describes a change of the sound pressure w.r.t to space which is given by the gradient of sound pressure. Hence, the particle density differs in space. The sound particle are accelerated towards regions of lower particle density. \n",
    "\n",
    "velocity of neighboring particles differs. This results in a change of the particle density over time as \"gaps\" between the particles occur. A change of the particle density causes a change of the sound pressure (left-hand-side).*\n",
    "\n",
    "</font>"
   ]
  },
  {
   "cell_type": "markdown",
   "metadata": {},
   "source": [
    "## The Wave Equation\n",
    "\n",
    "In linear acoustics, a sound pressure field $p(\\mathbf x, t)$ fulfils the wave equation\n",
    "\n",
    "$$\\Delta p(\\mathbf x, t) - \\frac{1}{c^2} \\frac{\\partial^2}{\\partial t^2} p(\\mathbf x, t) = -q(\\mathbf x, t)$$\n",
    "\n",
    "*Exercise*: How is the $\\Delta$-operator defined?"
   ]
  },
  {
   "cell_type": "markdown",
   "metadata": {},
   "source": [
    "<font color='blue'>\n",
    "\n",
    "$$ \\Delta f(\\mathbf x) =\\,\\frac{\\partial^2 f(\\mathbf x)}{\\partial x^2} +\n",
    "      \\frac{\\partial^2 f_y(\\mathbf x)}{\\partial y^2} +\n",
    "      \\frac{\\partial^2 f_z(\\mathbf x)}{\\partial z^2}$$\n",
    "      \n",
    "</font>"
   ]
  },
  {
   "cell_type": "markdown",
   "metadata": {},
   "source": [
    "If we apply the temporal Fourier transform to the wave equation, we get the Helmholtz equation\n",
    "\n",
    "$$\\Delta P(\\mathbf x, \\omega) + \\left(\\frac{\\omega}{c}\\right)^2 P(\\mathbf x, \\omega) = -Q(\\mathbf x, \\omega)$$\n",
    "\n",
    "*Exercise*: How is the temporal Fourier transform defined?"
   ]
  },
  {
   "cell_type": "markdown",
   "metadata": {},
   "source": [
    "<font color='blue'>\n",
    "\n",
    "$$ F(\\mathbf x, \\omega) = \\int_{-\\infty}^{\\infty} f(\\mathbf x, t) e^{-j\\omega t} \\, \\mathrm d t $$\n",
    "\n",
    "</font>"
   ]
  },
  {
   "cell_type": "markdown",
   "metadata": {},
   "source": [
    "*Exercise*: What do the terms *homogeneous* and *inhomogeneous* mean in the context of the wave equation and the Helmholtz equation?\n",
    "\n",
    "<font color='blue'>\n",
    "*\n",
    "homogeneous: The source density $q$ or $Q$ is zero.  \n",
    "inhomogeneous: The source density $q$ or $Q$ is non-zero.\n",
    "*\n",
    "</font>"
   ]
  },
  {
   "cell_type": "markdown",
   "metadata": {},
   "source": [
    "## Selected Solutions of the Wave Equation (Acoustic Sources)\n",
    "\n",
    "### Plane Wave\n",
    "\n",
    "A plane wave\n",
    "\n",
    "$$p_{pw}(\\mathbf x, t) = \\delta \\left(t - \\dfrac{\\mathbf n_{\\mathrm {pw}} \\cdot \\mathbf x}{c}  \\right)$$\n",
    "\n",
    "with its direction of progation defined by the vector $\\mathbf n_{\\mathrm {pw}}$ with $|\\mathbf n_{\\mathrm {pw}}| = 1$ is a solution of the homogeneous wave equation.\n",
    "\n",
    "*Exercise*: What the is temporal Fourier transform of the above equation? Hind: Keep the Fourier transform of a dirac impulse and the shift theorem in mind."
   ]
  },
  {
   "cell_type": "markdown",
   "metadata": {},
   "source": [
    "<font color='blue'>\n",
    "\n",
    "$$P_{pw}(\\mathbf x, \\omega) = \\mathrm{exp}\\left(-j\\frac{\\omega}{c} \\mathbf n_{\\mathrm {pw}} \\cdot \\mathbf x \\right) $$\n",
    "\n",
    "</font>"
   ]
  },
  {
   "cell_type": "markdown",
   "metadata": {},
   "source": [
    "Let's plot a [plane wave](http://sfs.readthedocs.io/en/latest/#equation-S.pw) with a frequency of 1000 Hertz which propagates in the direction of the negative y-axis."
   ]
  },
  {
   "cell_type": "code",
   "execution_count": null,
   "metadata": {
    "execution": {
     "iopub.execute_input": "2020-11-26T11:35:14.846456Z",
     "iopub.status.busy": "2020-11-26T11:35:14.845529Z",
     "iopub.status.idle": "2020-11-26T11:35:15.261840Z",
     "shell.execute_reply": "2020-11-26T11:35:15.262335Z"
    }
   },
   "outputs": [],
   "source": [
    "x0 = 0, 0, 0  # point of zero phase (metre)\n",
    "npw = 0, -1, 0  # propagation vector (unit length)\n",
    "f = 343  # time-frequency (Hz)\n",
    "omega = 2 * np.pi * f  # angular frequency (rad/s)\n",
    "\n",
    "# compute sound pressure field\n",
    "p_plane = sfs.fd.source.plane(omega, x0, npw, grid)\n",
    "sfs.plot2d.amplitude(p_plane, grid)  # plotting command\n",
    "plt.title(\"Plane wave with $n_{{pw}} = {}$\".format(npw))  # set title of plot"
   ]
  },
  {
   "cell_type": "markdown",
   "metadata": {},
   "source": [
    "*Exercise:* How can you see that the plane wave in the plot travels down and not up?"
   ]
  },
  {
   "cell_type": "markdown",
   "metadata": {
    "collapsed": true
   },
   "source": [
    "<font color='blue'>\n",
    "\n",
    "You can't tell, as the plot shows the real part of sound field, which is even symmetric w.r.t. to $y=0$\n",
    "\n",
    "</font>"
   ]
  },
  {
   "cell_type": "markdown",
   "metadata": {},
   "source": [
    "*Exercise:* Try different propagation angles and different frequencies."
   ]
  },
  {
   "cell_type": "code",
   "execution_count": null,
   "metadata": {
    "execution": {
     "iopub.execute_input": "2020-11-26T11:35:15.266295Z",
     "iopub.status.busy": "2020-11-26T11:35:15.265679Z",
     "iopub.status.idle": "2020-11-26T11:35:15.492868Z",
     "shell.execute_reply": "2020-11-26T11:35:15.493324Z"
    }
   },
   "outputs": [],
   "source": [
    "npw = 1, 0, 0  # propagation vector (unit length)\n",
    "\n",
    "p_plane = sfs.fd.source.plane(omega, x0, npw, grid)\n",
    "sfs.plot2d.amplitude(p_plane, grid)  # plotting command\n",
    "plt.title(\"Plane wave with $n_{{pw}} = {}$\".format(npw))  # set title of plot"
   ]
  },
  {
   "cell_type": "markdown",
   "metadata": {
    "collapsed": true
   },
   "source": [
    "*Exercise*: How does the sound field change, if we change the speed of sound? BTW, you can get (and set) the speed of sound currently used by the SFS toolbox via the variable `sfs.default.c`. How are speed of sound, frequency and wave length related?\n",
    "\n",
    "You can also set up c as input parameter into the `sfs.fd.source.plane` function."
   ]
  },
  {
   "cell_type": "code",
   "execution_count": null,
   "metadata": {
    "execution": {
     "iopub.execute_input": "2020-11-26T11:35:15.497187Z",
     "iopub.status.busy": "2020-11-26T11:35:15.496679Z",
     "iopub.status.idle": "2020-11-26T11:35:15.727445Z",
     "shell.execute_reply": "2020-11-26T11:35:15.727927Z"
    }
   },
   "outputs": [],
   "source": [
    "c = 343 / 2\n",
    "\n",
    "p_plane = sfs.fd.source.plane(omega, x0, npw, grid, c=c)\n",
    "sfs.plot2d.amplitude(p_plane, grid)  # plotting command\n",
    "plt.title(\"Plane wave with $n_{{pw}} = {}$\".format(npw))  # set title of plot"
   ]
  },
  {
   "cell_type": "markdown",
   "metadata": {},
   "source": [
    "*Exercise:* How does the level of the plane wave decay over distance? Use the corresponding function to plot the level."
   ]
  },
  {
   "cell_type": "code",
   "execution_count": null,
   "metadata": {
    "execution": {
     "iopub.execute_input": "2020-11-26T11:35:15.775559Z",
     "iopub.status.busy": "2020-11-26T11:35:15.766282Z",
     "iopub.status.idle": "2020-11-26T11:35:15.779388Z",
     "shell.execute_reply": "2020-11-26T11:35:15.779924Z"
    }
   },
   "outputs": [],
   "source": [
    "sfs.plot2d.level?"
   ]
  },
  {
   "cell_type": "code",
   "execution_count": null,
   "metadata": {
    "execution": {
     "iopub.execute_input": "2020-11-26T11:35:15.783024Z",
     "iopub.status.busy": "2020-11-26T11:35:15.782493Z",
     "iopub.status.idle": "2020-11-26T11:35:15.996922Z",
     "shell.execute_reply": "2020-11-26T11:35:15.997406Z"
    }
   },
   "outputs": [],
   "source": [
    "sfs.plot2d.level(p_plane, grid)  # plotting command\n",
    "# set title of plot\n",
    "plt.title(\"Plane Wave Level in dB, $n_{{pw}} = {}$\".format(npw))"
   ]
  },
  {
   "cell_type": "markdown",
   "metadata": {},
   "source": [
    "### Point Source\n",
    "\n",
    "The density $q_{ps}(\\mathbf x, t) = \\delta(t)\\delta(x-x_s)\\delta(y-y_s)\\delta(z-z_s)$ corresponds to a point source\n",
    "\n",
    "$$p_{ps}(\\mathbf x, t) = \\frac{\\delta \\left(t - \\dfrac{|\\mathbf x-\\mathbf x_{\\mathrm s}|}{c}\\right)}{4\\pi|\\mathbf x-\\mathbf x_{\\mathrm s}|}$$\n",
    "\n",
    "with its position defined by the vector $\\mathbf x_{\\mathrm {s}} = [x_s,y_s,z_s]^{\\mathrm T}$."
   ]
  },
  {
   "cell_type": "markdown",
   "metadata": {},
   "source": [
    "*Exercise*: What the is temporal Fourier transform of the above equation"
   ]
  },
  {
   "cell_type": "markdown",
   "metadata": {},
   "source": [
    "<font color='blue'>\n",
    "\n",
    "$$P_{ps}(\\mathbf x, \\omega) = \\frac{\\mathrm{exp}\\left(-j\\frac{\\omega}{c} |\\mathbf x-\\mathbf x_{\\mathrm s}| \\right)}{4\\pi|\\mathbf x-\\mathbf x_{\\mathrm s}|} $$\n",
    "\n",
    "</font>"
   ]
  },
  {
   "cell_type": "markdown",
   "metadata": {},
   "source": [
    "Let's plot a [point source](http://python.sfstoolbox.org/#sfs.mono.source.point) at the position $(0, 1.5, 0)$ metres with a frequency of 1000 Hertz."
   ]
  },
  {
   "cell_type": "code",
   "execution_count": null,
   "metadata": {
    "execution": {
     "iopub.execute_input": "2020-11-26T11:35:16.001908Z",
     "iopub.status.busy": "2020-11-26T11:35:16.001253Z",
     "iopub.status.idle": "2020-11-26T11:35:16.235724Z",
     "shell.execute_reply": "2020-11-26T11:35:16.236328Z"
    }
   },
   "outputs": [],
   "source": [
    "xs = 0, 1.5, 0  # position (metre)\n",
    "f = 1000  # time-frequency (Hz)\n",
    "omega = 2 * np.pi * f  # angular frequency (rad/s)\n",
    "\n",
    "p_point = sfs.fd.source.point(omega, xs, grid)\n",
    "sfs.plot2d.amplitude(p_point, grid)\n",
    "plt.title(\"Point Source at {} m\".format(xs))"
   ]
  },
  {
   "cell_type": "markdown",
   "metadata": {},
   "source": [
    "The amplitude of the sound field is a bit weak ...\n",
    "\n",
    "*Exercise:* Multiply the sound pressure field by a scaling factor of $4\\pi$ to get an appropriate amplitude."
   ]
  },
  {
   "cell_type": "code",
   "execution_count": null,
   "metadata": {
    "execution": {
     "iopub.execute_input": "2020-11-26T11:35:16.239411Z",
     "iopub.status.busy": "2020-11-26T11:35:16.238981Z",
     "iopub.status.idle": "2020-11-26T11:35:16.241129Z",
     "shell.execute_reply": "2020-11-26T11:35:16.241783Z"
    }
   },
   "outputs": [],
   "source": [
    "scaling_factor_point_source = 4 * np.pi"
   ]
  },
  {
   "cell_type": "code",
   "execution_count": null,
   "metadata": {
    "execution": {
     "iopub.execute_input": "2020-11-26T11:35:16.245470Z",
     "iopub.status.busy": "2020-11-26T11:35:16.244883Z",
     "iopub.status.idle": "2020-11-26T11:35:16.465036Z",
     "shell.execute_reply": "2020-11-26T11:35:16.464622Z"
    }
   },
   "outputs": [],
   "source": [
    "p_point = sfs.fd.source.point(omega, xs, grid)\n",
    "p_point = p_point * scaling_factor_point_source\n",
    "sfs.plot2d.amplitude(p_point, grid)\n",
    "plt.title(\"Point Source at {} m\".format(xs))"
   ]
  },
  {
   "cell_type": "markdown",
   "metadata": {},
   "source": [
    "*Exercise:* Try different source positions and different frequencies."
   ]
  },
  {
   "cell_type": "code",
   "execution_count": null,
   "metadata": {
    "execution": {
     "iopub.execute_input": "2020-11-26T11:35:16.469036Z",
     "iopub.status.busy": "2020-11-26T11:35:16.468575Z",
     "iopub.status.idle": "2020-11-26T11:35:16.706909Z",
     "shell.execute_reply": "2020-11-26T11:35:16.707304Z"
    }
   },
   "outputs": [],
   "source": [
    "xs = 0, 0, 0  # position (metre)\n",
    "f = 2000  # time-frequency (Hz)\n",
    "omega = 2 * np.pi * f  # angular frequency (rad/s)\n",
    "\n",
    "p_point = sfs.fd.source.point(omega, xs, grid)\n",
    "p_point = p_point * scaling_factor_point_source\n",
    "sfs.plot2d.amplitude(p_point, grid)\n",
    "plt.title(\"Point Source at {} m\".format(xs))"
   ]
  },
  {
   "cell_type": "markdown",
   "metadata": {},
   "source": [
    "*Exercise:* Compare the amplitude decay of a point source and a plane wave."
   ]
  },
  {
   "cell_type": "code",
   "execution_count": null,
   "metadata": {
    "execution": {
     "iopub.execute_input": "2020-11-26T11:35:16.710140Z",
     "iopub.status.busy": "2020-11-26T11:35:16.709683Z",
     "iopub.status.idle": "2020-11-26T11:35:16.882806Z",
     "shell.execute_reply": "2020-11-26T11:35:16.882265Z"
    }
   },
   "outputs": [],
   "source": [
    "sfs.plot2d.level(p_point, grid)\n",
    "plt.title(\"Point Source Level in dB, {} m\".format(xs))"
   ]
  },
  {
   "cell_type": "markdown",
   "metadata": {},
   "source": [
    "### Line Source\n",
    "\n",
    "$q_{ls}(\\mathbf x, t) = \\delta(t)\\delta(x-x_s)\\delta(y-y_s)$  corresponds to a line source parallel to the $z$-axis with its position defined by the vector $\\mathbf x_{\\mathrm {s}} = [x_s, y_s, 0]^{\\mathrm T}$. Its temporal Fourier spectrum is given as:\n",
    "\n",
    "$$ P_{ls}(\\mathbf x, \\omega) = -\\frac{j}{4} H_0\\left(\\sqrt{(x-x_s)^2 + (y-y_s)^2}\\right) $$\n",
    "\n",
    "Let's plot a [line source](http://python.sfstoolbox.org/#sfs.mono.source.line) (parallel to the z-axis) at the position $(0, 1.5)$ metres with a frequency of 1000 Hertz."
   ]
  },
  {
   "cell_type": "code",
   "execution_count": null,
   "metadata": {
    "execution": {
     "iopub.execute_input": "2020-11-26T11:35:16.886480Z",
     "iopub.status.busy": "2020-11-26T11:35:16.886013Z",
     "iopub.status.idle": "2020-11-26T11:35:17.188060Z",
     "shell.execute_reply": "2020-11-26T11:35:17.188549Z"
    }
   },
   "outputs": [],
   "source": [
    "xs = 0, 1.5  # position (metre)\n",
    "f = 1000  # time-frequency (Hz)\n",
    "omega = 2 * np.pi * f  # angular frequency (rad/s)\n",
    "\n",
    "p_line = sfs.fd.source.line(omega, xs, grid)\n",
    "sfs.plot2d.amplitude(p_line, grid)\n",
    "plt.title(\"Line Source at {} m\".format(xs[:2]))"
   ]
  },
  {
   "cell_type": "markdown",
   "metadata": {},
   "source": [
    "Again, the amplitude is a bit weak, let's scale it up!\n",
    "This time, the scaling factor is a bit more involved:"
   ]
  },
  {
   "cell_type": "code",
   "execution_count": null,
   "metadata": {
    "execution": {
     "iopub.execute_input": "2020-11-26T11:35:17.191771Z",
     "iopub.status.busy": "2020-11-26T11:35:17.191343Z",
     "iopub.status.idle": "2020-11-26T11:35:17.193416Z",
     "shell.execute_reply": "2020-11-26T11:35:17.192931Z"
    }
   },
   "outputs": [],
   "source": [
    "scaling_factor_line_source = np.sqrt(\n",
    "    8 * np.pi * omega / sfs.default.c) * np.exp(1j * np.pi / 4)"
   ]
  },
  {
   "cell_type": "markdown",
   "metadata": {},
   "source": [
    "*Exercise:* Scale the sound field by the given factor."
   ]
  },
  {
   "cell_type": "code",
   "execution_count": null,
   "metadata": {
    "execution": {
     "iopub.execute_input": "2020-11-26T11:35:17.196570Z",
     "iopub.status.busy": "2020-11-26T11:35:17.196164Z",
     "iopub.status.idle": "2020-11-26T11:35:17.429342Z",
     "shell.execute_reply": "2020-11-26T11:35:17.429719Z"
    }
   },
   "outputs": [],
   "source": [
    "p_line = p_line * scaling_factor_line_source\n",
    "sfs.plot2d.amplitude(p_line, grid)\n",
    "plt.title(\"Line Source at {} m\".format(xs[:2]))"
   ]
  },
  {
   "cell_type": "markdown",
   "metadata": {},
   "source": [
    "*Exercise:* Again, try different source positions and different frequencies."
   ]
  },
  {
   "cell_type": "code",
   "execution_count": null,
   "metadata": {
    "execution": {
     "iopub.execute_input": "2020-11-26T11:35:17.433634Z",
     "iopub.status.busy": "2020-11-26T11:35:17.433014Z",
     "iopub.status.idle": "2020-11-26T11:35:17.646206Z",
     "shell.execute_reply": "2020-11-26T11:35:17.646591Z"
    }
   },
   "outputs": [],
   "source": [
    "xs = 0, 0  # position (metre)\n",
    "f = 2000  # time-frequency (Hz)\n",
    "omega = 2 * np.pi * f  # angular frequency (rad/s)\n",
    "\n",
    "p_line = sfs.fd.source.line(omega, xs, grid)\n",
    "p_line = p_line * scaling_factor_line_source\n",
    "sfs.plot2d.amplitude(p_line, grid)\n",
    "plt.title(\"Line Source at {} m\".format(xs[:2]))"
   ]
  },
  {
   "cell_type": "markdown",
   "metadata": {},
   "source": [
    "*Exercise:* What's the difference between the sound fields of a point source and a line source?"
   ]
  },
  {
   "cell_type": "code",
   "execution_count": null,
   "metadata": {
    "execution": {
     "iopub.execute_input": "2020-11-26T11:35:17.660766Z",
     "iopub.status.busy": "2020-11-26T11:35:17.660353Z",
     "iopub.status.idle": "2020-11-26T11:35:18.028301Z",
     "shell.execute_reply": "2020-11-26T11:35:18.028985Z"
    }
   },
   "outputs": [],
   "source": [
    "f = 343  # time-frequency (Hz)\n",
    "omega = 2 * np.pi * f  # angular frequency (rad/s)\n",
    "\n",
    "plt.subplot(1, 2, 1)  # define left subplot\n",
    "xs = 0, 0\n",
    "p_line = sfs.fd.source.line(omega, xs, grid)\n",
    "scaling_factor_line_source = np.sqrt(\n",
    "    8 * np.pi * omega / sfs.default.c) * np.exp(1j * np.pi / 4)\n",
    "p_line *= scaling_factor_line_source\n",
    "sfs.plot2d.level(p_line, grid)\n",
    "plt.title(\"Line Source Level in dB\")  # -3 dB level loss per distance doubling\n",
    "\n",
    "plt.subplot(1, 2, 2)  # define left subplot\n",
    "xs = 0, 0, 0\n",
    "p_point = sfs.fd.source.point(omega, xs, grid)\n",
    "scaling_factor_point_source = 4 * np.pi\n",
    "p_point *= scaling_factor_point_source\n",
    "sfs.plot2d.level(p_point, grid)\n",
    "plt.title(\"Point Source Level in dB\")  # -6 dB level loss per distance doubling"
   ]
  },
  {
   "cell_type": "markdown",
   "metadata": {},
   "source": [
    "### Dipole Source\n",
    "\n",
    "This time, we start with the exercises and derive the sound field of the dipole source afterwards.\n",
    "\n",
    "*Exercise*: Compute the sound field of two point sources lying on a axis with orientation $\\mathbf n_s$ with a distance $2h=0.2$ m between them. Normalize the resulting sound field by $2h$. The two point sources should have the opposite polarity (opposite sign)."
   ]
  },
  {
   "cell_type": "code",
   "execution_count": null,
   "metadata": {
    "execution": {
     "iopub.execute_input": "2020-11-26T11:35:18.034722Z",
     "iopub.status.busy": "2020-11-26T11:35:18.034278Z",
     "iopub.status.idle": "2020-11-26T11:35:18.214968Z",
     "shell.execute_reply": "2020-11-26T11:35:18.215476Z"
    }
   },
   "outputs": [],
   "source": [
    "h = 0.1  # half distance between the two sources\n",
    "xs = np.array([0, 0, 0])  # coordinate between the two sources\n",
    "ns = np.array([1, 0, 0])  # orientation of the axis between the two sources\n",
    "f = 343*2  # time-frequency (Hz)\n",
    "omega = 2 * np.pi * f  # angular frequency (rad/s)\n",
    "\n",
    "xs1 = xs + h*ns  # position of the first point source\n",
    "xs2 = xs - h*ns  # position of the second point source\n",
    "\n",
    "p_point1 = +sfs.fd.source.point(omega, xs1, grid)\n",
    "p_point2 = -sfs.fd.source.point(omega, xs2, grid)\n",
    "\n",
    "p_res = (p_point1 + p_point2)/(2*h)\n",
    "\n",
    "sfs.plot2d.amplitude(p_res, grid, vmin=-2.5e1, vmax=+2.5e1)"
   ]
  },
  {
   "cell_type": "markdown",
   "metadata": {},
   "source": [
    "*Exercise*: Reduce the distance between the point source. What can you observe?"
   ]
  },
  {
   "cell_type": "code",
   "execution_count": null,
   "metadata": {
    "execution": {
     "iopub.execute_input": "2020-11-26T11:35:18.220145Z",
     "iopub.status.busy": "2020-11-26T11:35:18.219665Z",
     "iopub.status.idle": "2020-11-26T11:35:18.489626Z",
     "shell.execute_reply": "2020-11-26T11:35:18.489203Z"
    }
   },
   "outputs": [],
   "source": [
    "h = 5e-16  # half distance between the two sources\n",
    "xs = np.array([0, 0, 0])  # coordinate between the two sources\n",
    "ns = np.array([1, 0, 0])  # orientation of the axis between the two sources\n",
    "f = 343*2  # time-frequency (Hz)\n",
    "omega = 2 * np.pi * f  # angular frequency (rad/s)\n",
    "\n",
    "xs1 = xs + h*ns  # position of the first point source\n",
    "xs2 = xs - h*ns  # position of the second point source\n",
    "\n",
    "p_point1 = +sfs.fd.source.point(omega, xs1, grid)\n",
    "p_point2 = -sfs.fd.source.point(omega, xs2, grid)\n",
    "\n",
    "p_res = (p_point1 + p_point2)/(2*h)\n",
    "\n",
    "sfs.plot2d.amplitude(p_res, grid, vmin=-2.5e1, vmax=+2.5e1)"
   ]
  },
  {
   "cell_type": "markdown",
   "metadata": {},
   "source": [
    "The exact sound field of the Dipole Source is the limiting case of the above example.\n",
    "\n",
    "$$P_{dps}(\\mathbf x, \\omega) = \\lim_{h \\rightarrow \\infty} \\frac{\n",
    "    P_{ps}(\\mathbf x - h\\,\\mathbf n_s) - P_{ps}(\\mathbf x + h\\,\\mathbf n_s)\n",
    "    }\n",
    "    {2h} $$\n",
    "\n",
    "*Exercise*: Any idea what mathematically meaning this limit has?\n",
    "\n",
    "<font color='blue'>\n",
    "\n",
    "Its the **directional derivative** of $P_{ps}(\\mathbf x)$ along $\\mathbf n_s$. Its usually denoted as\n",
    "\n",
    "$$\n",
    "   P_{dps}(\\mathbf x, \\omega) = \\frac{\\partial P_{ps}(\\mathbf x)}{\\partial \\mathbf n_s}\n",
    "$$\n",
    "\n",
    "</font>"
   ]
  },
  {
   "cell_type": "markdown",
   "metadata": {},
   "source": [
    "*Exercise*: Plot the the exact sound field of a dipole source."
   ]
  },
  {
   "cell_type": "code",
   "execution_count": null,
   "metadata": {
    "execution": {
     "iopub.execute_input": "2020-11-26T11:35:18.493595Z",
     "iopub.status.busy": "2020-11-26T11:35:18.492297Z",
     "iopub.status.idle": "2020-11-26T11:35:18.496248Z",
     "shell.execute_reply": "2020-11-26T11:35:18.497137Z"
    }
   },
   "outputs": [],
   "source": [
    "sfs.fd.source.point_dipole?"
   ]
  },
  {
   "cell_type": "code",
   "execution_count": null,
   "metadata": {
    "execution": {
     "iopub.execute_input": "2020-11-26T11:35:18.503171Z",
     "iopub.status.busy": "2020-11-26T11:35:18.502643Z",
     "iopub.status.idle": "2020-11-26T11:35:18.716255Z",
     "shell.execute_reply": "2020-11-26T11:35:18.715348Z"
    }
   },
   "outputs": [],
   "source": [
    "xs = np.array([0, 0, 0])  # coordinate between the two sources\n",
    "ns = np.array([1, 0, 0])  # orientation of the axis between the two sources\n",
    "f = 343*2  # time-frequency (Hz)\n",
    "omega = 2 * np.pi * f  # angular frequency (rad/s)\n",
    "\n",
    "p_dipole = sfs.fd.source.point_dipole(omega, xs, ns, grid)\n",
    "\n",
    "sfs.plot2d.amplitude(p_dipole, grid, vmin=-2.5e1, vmax=+2.5e1)"
   ]
  },
  {
   "cell_type": "markdown",
   "metadata": {},
   "source": [
    "<p xmlns:dct=\"http://purl.org/dc/terms/\">\n",
    "  <a rel=\"license\"\n",
    "     href=\"http://creativecommons.org/publicdomain/zero/1.0/\">\n",
    "    <img src=\"http://i.creativecommons.org/p/zero/1.0/88x31.png\" style=\"border-style: none;\" alt=\"CC0\" />\n",
    "  </a>\n",
    "  <br />\n",
    "  To the extent possible under law,\n",
    "  <span rel=\"dct:publisher\" resource=\"[_:publisher]\">the person who associated CC0</span>\n",
    "  with this work has waived all copyright and related or neighboring\n",
    "  rights to this work.\n",
    "</p>"
   ]
  }
 ],
 "metadata": {
  "kernelspec": {
   "display_name": "mystiasp",
   "language": "python",
   "name": "mystiasp"
  },
  "language_info": {
   "codemirror_mode": {
    "name": "ipython",
    "version": 3
   },
   "file_extension": ".py",
   "mimetype": "text/x-python",
   "name": "python",
   "nbconvert_exporter": "python",
   "pygments_lexer": "ipython3",
   "version": "3.7.8"
  }
 },
 "nbformat": 4,
 "nbformat_minor": 1
}
