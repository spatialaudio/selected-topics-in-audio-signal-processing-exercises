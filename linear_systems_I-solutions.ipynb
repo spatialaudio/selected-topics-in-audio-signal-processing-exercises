{
 "cells": [
  {
   "cell_type": "markdown",
   "metadata": {},
   "source": [
    "# Linear Systems I - Solutions\n",
    "\n",
    "[back to exercise](linear_systems_I.ipynb)\n",
    "\n",
    "## Preparations"
   ]
  },
  {
   "cell_type": "code",
   "execution_count": 1,
   "metadata": {
    "execution": {
     "iopub.execute_input": "2020-11-26T13:08:45.486618Z",
     "iopub.status.busy": "2020-11-26T13:08:45.486182Z",
     "iopub.status.idle": "2020-11-26T13:08:45.849175Z",
     "shell.execute_reply": "2020-11-26T13:08:45.849580Z"
    }
   },
   "outputs": [],
   "source": [
    "import tools\n",
    "import sounddevice as sd  # for playback\n",
    "import soundfile as sf  # for reading a soundfile"
   ]
  },
  {
   "cell_type": "markdown",
   "metadata": {},
   "source": [
    "And some other stuff:"
   ]
  },
  {
   "cell_type": "code",
   "execution_count": 2,
   "metadata": {
    "execution": {
     "iopub.execute_input": "2020-11-26T13:08:45.852847Z",
     "iopub.status.busy": "2020-11-26T13:08:45.852392Z",
     "iopub.status.idle": "2020-11-26T13:08:46.000164Z",
     "shell.execute_reply": "2020-11-26T13:08:45.999709Z"
    }
   },
   "outputs": [],
   "source": [
    "# remove \"inline\" to get a separate plotting window:\n",
    "import numpy as np\n",
    "import matplotlib.pyplot as plt\n",
    "%matplotlib inline"
   ]
  },
  {
   "cell_type": "markdown",
   "metadata": {},
   "source": [
    "## One-dimensional time-continuous Systems\n",
    "\n",
    "First, we will have a quick review on linear systems in one dimension. In our case, we will use time signals depending on $t \\in \\mathbb{R}$. Generally, the input signal $x(t) \\in \\mathbb{C}$ and the corresponding output signal $y(t) \\in \\mathbb{C}$ of a system $\\mathcal H$ are related via:\n",
    "\n",
    "$$y(t) = \\mathcal{H}\\{x(t)\\}\\,.$$\n",
    "\n",
    "### Linear Time-Invariant (LTI) Systems\n",
    "\n",
    "As simple as it sounds, LTI-system are linear and time-invariant\n",
    "\n",
    "#### Linearity\n",
    "\n",
    "*Exercise*: Explain the term \"linear\" in your own words.  \n",
    "  \n",
    "<font color='blue'>\n",
    "*\n",
    "The system response (output signal) to a linear combination of different input signals is equal to the linear combination of the system responses to each invididual input signal\n",
    "*\n",
    "</font>  \n",
    "\n",
    "*Exercise*: What does this mean mathematically?\n",
    "\n",
    "<font color='blue'>\n",
    "$$\\mathcal{H}\\{A \\cdot x_1(t) + B \\cdot x_2(t)\\} = A \\cdot \\mathcal{H}\\{x_1(t)\\} + B \\cdot \\mathcal{H}\\{x_2(t)\\}\\, \\text{ for all } A,B \\in \\mathbb{C}$$\n",
    "</font>\n"
   ]
  },
  {
   "cell_type": "markdown",
   "metadata": {},
   "source": [
    "#### Time-Invariance\n",
    "\n",
    "*Exercise*: Explain the term \"time-invariance\" in your own words.\n",
    "<font color='blue'>\n",
    "*\n",
    "The properties of the system to not change over time: If a distinct input signal causes corresponding system response, a delayed version of that input signal results a delayed version of the system responses.\n",
    "*\n",
    "</font>\n",
    "\n",
    "*Exercise*: What does this mean mathematically?\n",
    "\n",
    "<font color='blue'>\n",
    "$$\\mathcal{H}\\{x(t-\\tau)\\} = y(t-\\tau)\\, \\text{ for all } \\tau \\in \\mathbb{R}$$\n",
    "</font>\n",
    "\n",
    "if $y(t) = \\mathcal{H} \\{ x(t) \\}$ is known.\n",
    "\n",
    "#### Are these systems LTI?\n",
    "\n",
    "*Exercise*: Vote for your LTI-system.\n",
    "\n",
    "1. $\\displaystyle y(t) = a \\cdot x(t) $ with $a \\in \\mathbb{C}$  \n",
    "    Yes:  \n",
    "    No:  \n",
    "    Result: <font color='blue'>Yes</font>\n",
    "2. $\\displaystyle y(t) = a \\cdot x(t) + b $ with $a,b \\in \\mathbb{C}$  \n",
    "    Yes:  \n",
    "    No:  \n",
    "    Result: <font color='blue'>No: time-invariant but non-linear</font>  \n",
    "3. $\\displaystyle y(t) = a \\cdot x(t-t_0) $ with $a \\in \\mathbb{C}$ and $t_0 \\in \\mathbb{R}$  \n",
    "    Yes:  \n",
    "    No:  \n",
    "    Result: <font color='blue'>Yes</font>  \n",
    "4. $\\displaystyle y(t) = a \\cdot x(t-b \\cdot t) $ with $a \\in \\mathbb{C}$ and $b \\in \\mathbb{R}$   \n",
    "    Yes:  \n",
    "    No:  \n",
    "    Result: <font color='blue'>No: linear, but time-variant</font>  \n",
    "5. $\\displaystyle y(t) = \\frac{\\mathrm d x(t)}{\\mathrm d t}$  \n",
    "    Yes:  \n",
    "    No:  \n",
    "    Result: <font color='blue'>Yes</font>  \n",
    "6. $\\displaystyle y(t) = \\int x(t)\\,\\mathrm d t $  \n",
    "    Yes:  \n",
    "    No:   \n",
    "    Result: <font color='blue'>Yes</font>  \n",
    "7. $\\displaystyle y(t) = \\int_{-\\infty}^{\\infty} h(t_0) \\cdot x(t - t_0)\\,\\mathrm d t_0 $  \n",
    "    Yes:  \n",
    "    No:  \n",
    "    Result: <font color='blue'>Yes</font>\n",
    "    \n",
    "#### Listen to a linear and a non-linear system\n",
    "\n",
    "We will investigate two unknown systems. The only information we have about these systems is that the first is LTI (linear and time invariant) and the second is non-linear. They are defined by the functions `tools.blackbox()` and `tools.blackbox_nonlinear()`. Have a quick look at the documentation:"
   ]
  },
  {
   "cell_type": "code",
   "execution_count": 3,
   "metadata": {
    "execution": {
     "iopub.execute_input": "2020-11-26T13:08:46.019826Z",
     "iopub.status.busy": "2020-11-26T13:08:46.019428Z",
     "iopub.status.idle": "2020-11-26T13:08:46.041818Z",
     "shell.execute_reply": "2020-11-26T13:08:46.042290Z"
    }
   },
   "outputs": [],
   "source": [
    "tools.blackbox?"
   ]
  },
  {
   "cell_type": "code",
   "execution_count": 4,
   "metadata": {
    "execution": {
     "iopub.execute_input": "2020-11-26T13:08:46.046371Z",
     "iopub.status.busy": "2020-11-26T13:08:46.045941Z",
     "iopub.status.idle": "2020-11-26T13:08:46.048446Z",
     "shell.execute_reply": "2020-11-26T13:08:46.048030Z"
    }
   },
   "outputs": [],
   "source": [
    "tools.blackbox_nonlinear?"
   ]
  },
  {
   "cell_type": "markdown",
   "metadata": {},
   "source": [
    "*Exercise:* Load the audio file [data/xmas.wav](data/xmas.wav) and apply both functions to it."
   ]
  },
  {
   "cell_type": "code",
   "execution_count": 5,
   "metadata": {
    "execution": {
     "iopub.execute_input": "2020-11-26T13:08:46.053254Z",
     "iopub.status.busy": "2020-11-26T13:08:46.052857Z",
     "iopub.status.idle": "2020-11-26T13:08:46.055205Z",
     "shell.execute_reply": "2020-11-26T13:08:46.054777Z"
    }
   },
   "outputs": [],
   "source": [
    "# how to read an audio file\n",
    "sf.read?"
   ]
  },
  {
   "cell_type": "code",
   "execution_count": 6,
   "metadata": {
    "execution": {
     "iopub.execute_input": "2020-11-26T13:08:46.058067Z",
     "iopub.status.busy": "2020-11-26T13:08:46.057618Z",
     "iopub.status.idle": "2020-11-26T13:08:46.073575Z",
     "shell.execute_reply": "2020-11-26T13:08:46.073977Z"
    }
   },
   "outputs": [],
   "source": [
    "[x, fs] = sf.read('data/xmas.wav')\n",
    "\n",
    "ylin = tools.blackbox(x, fs)\n",
    "ynonlin = tools.blackbox_nonlinear(x, fs)"
   ]
  },
  {
   "cell_type": "markdown",
   "metadata": {},
   "source": [
    "*Exercise*: Listen to the input signal and both output signals.\n",
    "\n",
    "**CAUTION: CHECK THE PLAYBACk LEVEL**"
   ]
  },
  {
   "cell_type": "code",
   "execution_count": 7,
   "metadata": {
    "execution": {
     "iopub.execute_input": "2020-11-26T13:08:46.078109Z",
     "iopub.status.busy": "2020-11-26T13:08:46.077670Z",
     "iopub.status.idle": "2020-11-26T13:08:46.079231Z",
     "shell.execute_reply": "2020-11-26T13:08:46.079653Z"
    }
   },
   "outputs": [],
   "source": [
    "# how to play back the signal\n",
    "sd.play?"
   ]
  },
  {
   "cell_type": "code",
   "execution_count": 8,
   "metadata": {
    "execution": {
     "iopub.execute_input": "2020-11-26T13:08:46.082755Z",
     "iopub.status.busy": "2020-11-26T13:08:46.082325Z",
     "iopub.status.idle": "2020-11-26T13:08:54.287531Z",
     "shell.execute_reply": "2020-11-26T13:08:54.287945Z"
    }
   },
   "outputs": [],
   "source": [
    "sd.play(x, blocking=True)\n",
    "sd.play(ylin, blocking=True)\n",
    "sd.play(ynonlin, blocking=True)"
   ]
  },
  {
   "cell_type": "markdown",
   "metadata": {},
   "source": [
    "### The Impulse Response\n",
    "\n",
    "The impulse response $h(t)$ of an LTI system characterises it completely. It is the LTI system's response to a Dirac impulse $\\delta(t)$\n",
    "\n",
    "$$h(t) = \\mathcal{H}\\{\\delta(t)\\}\\,.$$\n",
    "\n",
    "So why is the impulse response sufficient to describe the whole LTI system? The input signal $x(t)$ can be described as a sequence of Dirac impulses \n",
    "\n",
    "$$ x(t) = \\int_{-\\infty}^{\\infty} x(t_0) \\cdot \\delta(t-t_0)\\,\\mathrm d t_0\\,,$$ \n",
    "\n",
    "where the Dirac impulse at $t_0$ is weighted by the value $x(t_0)$ of the signal at $t_0$. Applying the system onto $x(t)$ yields\n",
    "\n",
    "$$ y(t) = \\mathcal{H}\\{x(t)\\} = \\mathcal{H}\\left\\{\\int_{-\\infty}^{\\infty} x(t_0) \\cdot \\delta(t-t_0)\\,\\mathrm d t_0\\right\\}$$\n",
    "\n",
    "As a next step, we can exchange the integral operator $\\int$ and the system operator $\\mathcal{H}$:\n",
    "\n",
    "$$ y(t) = \\mathcal{H}\\{x(t)\\} = \\int_{-\\infty}^{\\infty} x(t_0) \\cdot \\mathcal{H}\\{\\delta(t-t_0)\\}\\,\\mathrm d t_0$$\n",
    "\n",
    "*Exercise*: What property has to be fulfilled by $\\mathcal{H}$ in order to be able to exchange integral and system operator?"
   ]
  },
  {
   "cell_type": "markdown",
   "metadata": {},
   "source": [
    "<font color='blue'>\n",
    "*\n",
    "Linearity  \n",
    "*\n",
    "</font>"
   ]
  },
  {
   "cell_type": "markdown",
   "metadata": {},
   "source": [
    "As the last step, we re-write the system response of the Dirac $\\delta$ shifted about $t_0$ as the shifted impulse response $h(t-t_0)$:\n",
    "\n",
    "$$ y(t) = \\mathcal{H}\\{x(t)\\} = \\int_{-\\infty}^{\\infty} x(t_0) \\cdot h(t-t_0)\\,\\mathrm d t_0$$\n",
    "\n",
    "*Exercise*: What property has to be fulfilled by $\\mathcal{H}$ in order to replace $\\mathcal{H}\\{\\delta(t-t_0)\\}$ by $h(t-t_0)$?"
   ]
  },
  {
   "cell_type": "markdown",
   "metadata": {},
   "source": [
    "<font color='blue'>\n",
    "*\n",
    "Time-Invariance\n",
    "*\n",
    "</font>"
   ]
  },
  {
   "cell_type": "markdown",
   "metadata": {},
   "source": [
    "Hence, we can describe the output signal $y(t)$ by the so-called **linear convolution** integral of the corresponding input signal $x(t)$ and the impulse response $h(t)$. Its short version reads\n",
    "\n",
    "$$ y(t) = x(t) * h(t) $$\n",
    "\n",
    "where $*$ is a common notation of the convolution."
   ]
  },
  {
   "cell_type": "markdown",
   "metadata": {},
   "source": [
    "### A Naive Implementation of the Linear Convolution\n",
    "\n",
    "Time-continuous signals cannot be handled by computers. Signals must be sampled in time with the sample period $T_s$.\n",
    "This yields discrete-time signals. The discrete-time counterpart of a linear convolution is given as\n",
    "\n",
    "$$ y[n] = x[n] \\ast h[n] = \\sum_{k = -\\infty}^{\\infty} x[k] \\cdot h[n-k] $$\n",
    "\n",
    "where $y[n] = y(n T_s)$, $x[n] = x(n T_s)$, and $h[n] = h(n T_s)$ denote the discrete-time versions of the involved entities.\n",
    "\n",
    "*Exercise:* Write a function called `naive_convolution()` that computes the convolution of two one-dimensional arrays (discrete-time signals of finite length) by means of two nested loops according to the equation above, where $x$ and $h$ are one-dimensional arrays of finite lengths. The infinite sum can be changed to a finite sum by assuming that all values before index 0 and all values after the last array element are equal to zero.\n",
    "\n",
    "Following this assumption, at which indices $n$ does $y[n]$ have its first and last non-zero value?"
   ]
  },
  {
   "cell_type": "code",
   "execution_count": 9,
   "metadata": {
    "execution": {
     "iopub.execute_input": "2020-11-26T13:08:54.308282Z",
     "iopub.status.busy": "2020-11-26T13:08:54.307748Z",
     "iopub.status.idle": "2020-11-26T13:08:54.424036Z",
     "shell.execute_reply": "2020-11-26T13:08:54.424503Z"
    }
   },
   "outputs": [
    {
     "data": {
      "text/plain": [
       "Text(0.5, 0, 'n')"
      ]
     },
     "execution_count": 1,
     "metadata": {},
     "output_type": "execute_result"
    },
    {
     "data": {
      "image/png": "[encoded data removed]",
      "text/plain": [
       "<Figure size 432x288 with 1 Axes>"
      ]
     },
     "metadata": {
      "needs_background": "light"
     },
     "output_type": "display_data"
    }
   ],
   "source": [
    "def naive_convolution(x, h):\n",
    "    # in python, you have to indent everything inside your function\n",
    "\n",
    "    Nx = len(x)  # length of x\n",
    "    Nh = len(h)  # length of h\n",
    "    Ny = Nx + Nh - 1  # resulting length of y\n",
    "\n",
    "    y = np.zeros(Ny)  # initialise output array\n",
    "    for k in np.arange(0, Nx):  # help: for which indices k is x non-zero?\n",
    "        for n in np.arange(k, Nh+k):  # help: for which indices (n-k) is h non-zero?\n",
    "            y[n] = y[n] + x[k] * h[n-k]\n",
    "\n",
    "    return y\n",
    "    # end of function\n",
    "\n",
    "\n",
    "# try out your function\n",
    "x = np.array([1, 1, 1, 1, 1])\n",
    "h = np.array([1, 1, 1])\n",
    "\n",
    "y = naive_convolution(x, h)\n",
    "plt.stem(y, use_line_collection=True, basefmt='C0:')\n",
    "plt.ylabel('y[n]')\n",
    "plt.xlabel('n');"
   ]
  },
  {
   "cell_type": "markdown",
   "metadata": {},
   "source": [
    "### The Transfer Function\n",
    "\n"
   ]
  },
  {
   "cell_type": "markdown",
   "metadata": {},
   "source": [
    "The transfer function of an LTI-system is the temporal Fourier transform its impulse response"
   ]
  },
  {
   "cell_type": "markdown",
   "metadata": {},
   "source": [
    "$$ H(\\omega) = \\int_{-\\infty}^{\\infty} h(t) e^{-j\\omega t} \\mathrm d t$$"
   ]
  },
  {
   "cell_type": "markdown",
   "metadata": {},
   "source": [
    "*Exercise*: $y(t)$, $x(t)$ and $h(t)$ are related to each other by the convolution. How are the respective Fourier spectra $Y(\\omega)$, $X(\\omega)$, $H(\\omega)$ related?"
   ]
  },
  {
   "cell_type": "markdown",
   "metadata": {},
   "source": [
    " "
   ]
  },
  {
   "cell_type": "markdown",
   "metadata": {},
   "source": [
    "### A naive implementation of the Fourier Transform\n",
    "\n"
   ]
  },
  {
   "cell_type": "markdown",
   "metadata": {},
   "source": [
    "Time-continuous signals cannot be handled by computers. They are sampled in time with the sample period $T_s$. In order to compute the Fourier transform of a signal, one has to discretize the integral\n",
    "\n",
    "$$ H(\\omega) = \\sum_{n=-\\infty}^{\\infty} h[n] e^{-j\\omega n T_s} $$\n",
    "\n",
    "where $h[n] = h(n T_s)$ denotes the discrete version of the involved $h(t)$. This is also known as DTFT, discrete-time Fourier transform.\n",
    "\n",
    "*Exercise:* Write a function called `naive_ft()` that computes the Fourier transform of a given signal $x$ of finite length for different frequencies. Use two nested loops according for this, again. The infinite sum can be changed to a finite sum by assuming that all values before index 0 and all values after the last array element are equal to zero."
   ]
  },
  {
   "cell_type": "code",
   "execution_count": 10,
   "metadata": {
    "execution": {
     "iopub.execute_input": "2020-11-26T13:08:54.429356Z",
     "iopub.status.busy": "2020-11-26T13:08:54.428861Z",
     "iopub.status.idle": "2020-11-26T13:08:54.431154Z",
     "shell.execute_reply": "2020-11-26T13:08:54.430662Z"
    }
   },
   "outputs": [],
   "source": [
    "def naive_ft(x, f, fs):\n",
    "    # inputs:\n",
    "    # x - signal vector\n",
    "    # f - time-frequencies\n",
    "    # fs - sample rate\n",
    "\n",
    "    # outputs:\n",
    "    # X - frequency spectrum\n",
    "\n",
    "    Nsig = len(x)  # length of signal\n",
    "    Nspec = len(f)  # length of spectrum\n",
    "\n",
    "    omega = 2*np.pi*f  # angular frequency\n",
    "\n",
    "    X = np.zeros(Nspec, dtype=complex)  # initialise output spectrum\n",
    "    for k in np.arange(0, Nspec):  # angular frequency\n",
    "        for n in np.arange(0, Nsig):  # help: for which indices (n-k) is h non-zero?\n",
    "            X[k] = X[k] + x[n]*np.exp(-1j*omega[k]*n/fs)\n",
    "\n",
    "    return X\n",
    "    # end of function"
   ]
  },
  {
   "cell_type": "markdown",
   "metadata": {},
   "source": [
    "*Exercise:* Compute the transfer function of the blackbox system `tools.blackbox`."
   ]
  },
  {
   "cell_type": "code",
   "execution_count": 11,
   "metadata": {
    "execution": {
     "iopub.execute_input": "2020-11-26T13:08:54.436783Z",
     "iopub.status.busy": "2020-11-26T13:08:54.436143Z",
     "iopub.status.idle": "2020-11-26T13:08:55.498636Z",
     "shell.execute_reply": "2020-11-26T13:08:55.498221Z"
    }
   },
   "outputs": [
    {
     "data": {
      "image/png": "[encoded data removed]",
      "text/plain": [
       "<Figure size 432x288 with 1 Axes>"
      ]
     },
     "metadata": {
      "needs_background": "light"
     },
     "output_type": "display_data"
    }
   ],
   "source": [
    "fs = 44100  # sample rate\n",
    "# frequency axis\n",
    "f = np.logspace(-4, 0, 100)*fs/2\n",
    "# dirac as input signal\n",
    "x = np.zeros(2**10)\n",
    "x[0] = 1\n",
    "\n",
    "h = tools.blackbox(x, fs)  # impulse response of black system\n",
    "H = naive_ft(h, f, fs)  # transfer function of blackboard system\n",
    "\n",
    "plt.semilogx(f, 20*np.log10(abs(H)))\n",
    "plt.ylim([-60, 5])\n",
    "plt.xlabel('f / Hz')\n",
    "plt.ylabel('20 log10 |H| / dB')\n",
    "plt.title('DTFT of the blackbox system''s impulse response = Frequency Response')\n",
    "plt.grid(True)"
   ]
  },
  {
   "cell_type": "markdown",
   "metadata": {},
   "source": [
    "## Solutions\n",
    "\n",
    "If you had problems solving some of the exercises, don't despair!\n",
    "Have a look at the [example solutions](linear_systems-solutions.ipynb)."
   ]
  },
  {
   "cell_type": "markdown",
   "metadata": {},
   "source": [
    "<p xmlns:dct=\"http://purl.org/dc/terms/\">\n",
    "  <a rel=\"license\"\n",
    "     href=\"http://creativecommons.org/publicdomain/zero/1.0/\">\n",
    "    <img src=\"http://i.creativecommons.org/p/zero/1.0/88x31.png\" style=\"border-style: none;\" alt=\"CC0\" />\n",
    "  </a>\n",
    "  <br />\n",
    "  To the extent possible under law,\n",
    "  <span rel=\"dct:publisher\" resource=\"[_:publisher]\">the person who associated CC0</span>\n",
    "  with this work has waived all copyright and related or neighboring\n",
    "  rights to this work.\n",
    "</p>"
   ]
  }
 ],
 "metadata": {
  "kernelspec": {
   "display_name": "mystiasp",
   "language": "python",
   "name": "mystiasp"
  },
  "language_info": {
   "codemirror_mode": {
    "name": "ipython",
    "version": 3
   },
   "file_extension": ".py",
   "mimetype": "text/x-python",
   "name": "python",
   "nbconvert_exporter": "python",
   "pygments_lexer": "ipython3",
   "version": "3.7.8"
  }
 },
 "nbformat": 4,
 "nbformat_minor": 1
}
