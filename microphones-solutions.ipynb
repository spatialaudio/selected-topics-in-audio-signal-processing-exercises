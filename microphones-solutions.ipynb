{
 "cells": [
  {
   "cell_type": "markdown",
   "metadata": {},
   "source": [
    "# Microphones\n",
    "\n",
    "[return to main page](index.ipynb)\n",
    "\n",
    "## Preparations"
   ]
  },
  {
   "cell_type": "code",
   "execution_count": null,
   "metadata": {
    "execution": {
     "iopub.execute_input": "2020-11-26T11:34:29.911414Z",
     "iopub.status.busy": "2020-11-26T11:34:29.910867Z",
     "iopub.status.idle": "2020-11-26T11:34:30.209837Z",
     "shell.execute_reply": "2020-11-26T11:34:30.210282Z"
    }
   },
   "outputs": [],
   "source": [
    "import numpy as np\n",
    "import sounddevice as sd  # for playback\n",
    "import soundfile as sf  # for reading a soundfile\n",
    "\n",
    "# remove \"inline\" to get a separate plotting window:\n",
    "%matplotlib inline  \n",
    "import matplotlib.pyplot as plt"
   ]
  },
  {
   "cell_type": "markdown",
   "metadata": {},
   "source": [
    "## Basic Microphone Types\n",
    "\n",
    "### Pressure Microphone\n",
    "\n",
    "A pressure microphone measures the sound pressure $P(\\mathbf x, \\omega)$ where $\\mathbf x$ is the position of the microphone. The microphone signal is hence given as\n",
    "\n",
    "$$\n",
    "M(\\mathbf x, \\omega) = P(\\mathbf x, \\omega)\n",
    "$$\n",
    "\n",
    "### Pressure-Gradient Microphone\n",
    "\n",
    "This type of microphone measures the gradient of the sound pressure along a specific direction, which is define by the orientation of the membrane inside the microphone. The so-called directional gradient along the direction defined by the surface normal $\\mathbf n_m$ onto the membrane is given as\n",
    "\n",
    "$$ M(\\mathbf x, \\omega) = \\frac{\\partial}{\\partial \\mathbf n_m} P(\\mathbf x, \\omega)\n",
    "    = \\mathbf n_m \\cdot \\nabla P(\\mathbf x, \\omega)\n",
    "$$\n",
    "\n",
    "*Exercise*: Calculate the pressure gradient of a point source with its sound pressure given as \n",
    "\n",
    "$$P_{ps}(\\mathbf x | \\mathbf x_s, \\omega) = \\frac{\\mathrm{exp}\\left(-j\\frac{\\omega}{c} |\\mathbf x-\\mathbf x_{\\mathrm s}| \\right)}{4\\pi|\\mathbf x-\\mathbf x_{\\mathrm s}|} $$"
   ]
  },
  {
   "cell_type": "markdown",
   "metadata": {},
   "source": [
    "<font color='blue'>\n",
    "*\n",
    "For the gradient, we need the derivative with respect to each component of $\\mathbf x$. Using the chain rule of differentiation, we can write for $x$:\n",
    "\n",
    "$$\n",
    "  \\frac{\\partial}{\\partial x} P(\\mathbf x | \\mathbf x_s, \\omega) = \n",
    "      \\frac{\\partial}{\\partial x}\n",
    "      \\frac{\\mathrm{exp}\\left(-j\\frac{\\omega}{c} |\\mathbf x-\\mathbf x_{\\mathrm s}| \\right)}{4\\pi|\\mathbf x-\\mathbf x_{\\mathrm s}|} =     \n",
    "  \\left(\\frac{\\partial (|\\mathbf x - \\mathbf x_s|)}{\\partial x}\\right) \\cdot\n",
    "  \\left(\\frac{\\partial }{\\partial (|\\mathbf x -\\mathbf  x_s|)} \n",
    "  \\frac{\\mathrm{exp}\\left(-j\\frac{\\omega}{c} |\\mathbf x-\\mathbf x_{\\mathrm s}| \\right)}{4\\pi|\\mathbf x-\\mathbf x_{\\mathrm s}|}\n",
    "  \\right)\n",
    "$$\n",
    "\n",
    "The first derivative yields:\n",
    "$$ \n",
    "    \\left(\\frac{\\partial (|\\mathbf x - \\mathbf x_s|}{\\partial x}\\right) = \n",
    "    \\left(\\frac{\\partial (\\sqrt{(x-x_s)^2 + (y-y_s)^2 + (z-z_s)^2}}{\\partial x}\\right) =\n",
    "    \\frac{x-x_s}{\\sqrt{(x-x_s)^2 + (y-y_s)^2 + (z-z_s)^2}} =\n",
    "    \\frac{x-x_s}{|\\mathbf x - \\mathbf x_s|}\n",
    "$$\n",
    "\n",
    "The second derivative with $u = |\\mathbf x - \\mathbf x_s|$ yields:\n",
    "\n",
    "$$ \n",
    "  \\frac{\\partial }{\\partial u} \n",
    "  \\frac{\\mathrm{exp}\\left(-j\\frac{\\omega}{c} u \\right)}{4\\pi u} =\n",
    "  \\left(-j\\frac{\\omega}{c} - \\frac{1}{u} \\right) \\frac{\\mathrm{exp}\\left(-j\\frac{\\omega}{c} u \\right)}{4\\pi u}\n",
    "$$\n",
    "\n",
    "Repeating the procedure for $y$ and $z$ and evaulating the scalar product with $\\mathbf n_m$ results in\n",
    "\n",
    "$$\n",
    "\\frac{\\partial}{\\partial \\mathbf n_m} P_{ps}(\\mathbf x | \\mathbf x_s, \\omega) =\n",
    "    \\left(j\\frac{\\omega}{c} + \\frac{1}{|\\mathbf x- \\mathbf x_s|} \\right) \n",
    "    \\frac{(\\mathbf x_s - \\mathbf x) \\cdot \\mathbf n_m}{|\\mathbf x- \\mathbf x_s|} \n",
    "    \\frac{\\mathrm{exp}\\left(-j\\frac{\\omega}{c} |\\mathbf x_{\\mathrm s} - \\mathbf x| \\right)}{4\\pi|\\mathbf x-\\mathbf x_{\\mathrm s}|}\n",
    "$$\n",
    "*\n",
    "</font>"
   ]
  },
  {
   "cell_type": "markdown",
   "metadata": {},
   "source": [
    "*Exercise*: Can to tell anything about the behaviour of the microphone for low/high temporal frequencies and close/far distances between the microphone and the point source?"
   ]
  },
  {
   "cell_type": "markdown",
   "metadata": {},
   "source": [
    "<font color='blue'>\n",
    "*\n",
    "For \n",
    "*\n",
    "</font>\n",
    "\n",
    "### Combining Pressure and Pressure-Gradient Microphones\n",
    "\n",
    "There is also the possibility to combine both prior types to\n",
    "\n",
    "$$\n",
    "M(\\mathbf x, \\omega) = a(\\omega)\\,P(\\mathbf x, \\omega) + b(\\omega)\\,\\frac{\\partial}{\\partial \\mathbf n_m} P(\\mathbf x, \\omega)\n",
    "$$"
   ]
  },
  {
   "cell_type": "markdown",
   "metadata": {},
   "source": [
    "## Technical Parameters\n",
    "\n",
    "### The Far-Field Directivity\n",
    "\n",
    "#### Definition\n",
    "\n",
    "For the far-field directivity the microphone signal caused by a point source is normalised by the sound pressure of that point source. \n",
    "\n",
    "$$\n",
    "M_0(\\phi_s, \\theta_s, \\omega) = \\lim_{|\\mathbf x_s|\\rightarrow \\infty} \\frac{M_{ps}(\\mathbf x| \\mathbf x_s, \\omega)}{P_{ps}(\\mathbf x | \\mathbf x_s, \\omega)}\n",
    "$$\n",
    "\n",
    "where the point source is assumed to be at an infinite distance. The far-field directivity is hence depending on the direction of arrival defined by the two the angles $\\phi_s$ and $\\theta_s$ in spherical coordinates. In general, the directivity is frequency-dependent. In most cases, the directivity of the microphone is rotationally symmetric with respect to the microphone orientation $\\mathbf n_m $ so that M_0 depends only of the angle between $\\mathbf n_m$ and $\\mathbf x_s$ called $\\Theta$.\n",
    "\n",
    "*Exercise*: Calculate the Far-Field-Directivity of Pressure Microphone."
   ]
  },
  {
   "cell_type": "markdown",
   "metadata": {},
   "source": [
    "<font color='blue'>\n",
    "\n",
    "$$\n",
    "M_0(\\Theta) = 1\n",
    "$$\n",
    "\n",
    "</font>"
   ]
  },
  {
   "cell_type": "markdown",
   "metadata": {},
   "source": [
    "*Exercise*: Calculate the Far-Field-Directivity of Pressure-Gradient Microphone."
   ]
  },
  {
   "cell_type": "markdown",
   "metadata": {},
   "source": [
    "<font color='blue'>\n",
    "\n",
    "$$\n",
    " M_0(\\Theta) = \n",
    "    \\lim_{|\\mathbf x_s|\\rightarrow \\infty} \n",
    "    \\left(j\\frac{\\omega}{c} + \\frac{1}{|\\mathbf x - \\mathbf x_s|} \\right) \n",
    "    \\frac{(\\mathbf x_s - \\mathbf x) \\cdot \\mathbf n_m}{|\\mathbf x- \\mathbf x_s|} = \n",
    "    j\\frac{\\omega}{c} \\frac{\\mathbf x_s}{|\\mathbf x_s|} \\cdot \\mathbf n_m =\n",
    "    j\\frac{\\omega}{c} \\cos( \\Theta )\n",
    "$$\n",
    "</font>"
   ]
  },
  {
   "cell_type": "markdown",
   "metadata": {},
   "source": [
    "It is common practice, to compensate the frequency dependence of the far-field directivity of pressure gradient microphones, so that the frequency dependent term (high-pass characteristic) vanishes. \n",
    "\n",
    "#### First-Order Directivity Patterns\n",
    "\n",
    "First-order directivities subsume patterns with\n",
    "\n",
    "$$\n",
    "  M_0(\\phi_s, \\theta_s) = M_0(\\Theta) = a + (1-a) \\cos( \\Theta )\n",
    "$$\n",
    "\n",
    "They hence linearly combine the directivity patterns of a pressure and a pressure-gradient microphone. Let's plot some directivity patterns:"
   ]
  },
  {
   "cell_type": "code",
   "execution_count": null,
   "metadata": {
    "execution": {
     "iopub.execute_input": "2020-11-26T11:34:30.256134Z",
     "iopub.status.busy": "2020-11-26T11:34:30.234493Z",
     "iopub.status.idle": "2020-11-26T11:34:30.419444Z",
     "shell.execute_reply": "2020-11-26T11:34:30.419843Z"
    }
   },
   "outputs": [],
   "source": [
    "# a = ...\n",
    "# 1 - omnidirectional\n",
    "# 0.75 - wide cardioid\n",
    "# 0.5 - cardioid\n",
    "# 0.366 - super cardioid\n",
    "# 0.25 - hyper cardioid\n",
    "# 0 - figure of eight\n",
    "a = np.array([1, 0.75, 0.5, 0.3666, 0.25, 0]).reshape(-1,1);\n",
    "\n",
    "theta = np.linspace(0,2*np.pi, 361)\n",
    "theta = theta.reshape(1,-1)\n",
    "theta = np.array([1, -1, 1, -1, 1, -1]).reshape(-1,1) * theta\n",
    "\n",
    "A = np.abs(a + (1 - a)*np.cos(theta))\n",
    "\n",
    "# plotting\n",
    "ax = plt.subplot(111, projection='polar')\n",
    "plt.plot(theta.T, A.T, linewidth=3)\n",
    "ax.set_rmax(1.0)\n",
    "ax.grid(True)\n",
    "ax.legend(['omni', 'wide card.', 'card.', 'super card.', 'hyper card.', 'fig. of 8'], \n",
    "    bbox_to_anchor=(0., 1.02, 1., .102), loc=3, ncol=2, mode=\"expand\", borderaxespad=0.)\n",
    "ax.set_title(\"A line plot on a polar axis\", va='bottom')\n",
    "plt.show()"
   ]
  },
  {
   "cell_type": "markdown",
   "metadata": {},
   "source": [
    "*Exercise*: Compare the directivity patterns! Can you observe any relation between the width of the front lobe (around 0$^\\circ$) and width of the back lobe (around 180$^\\circ$) ? "
   ]
  },
  {
   "cell_type": "markdown",
   "metadata": {},
   "source": [
    "  "
   ]
  },
  {
   "cell_type": "markdown",
   "metadata": {},
   "source": [
    "*Exercise*: Compare the effect of different patterns with regard to the supression of noise coming from a different direction than the target sound."
   ]
  },
  {
   "cell_type": "code",
   "execution_count": null,
   "metadata": {
    "execution": {
     "iopub.execute_input": "2020-11-26T11:34:30.423987Z",
     "iopub.status.busy": "2020-11-26T11:34:30.423562Z",
     "iopub.status.idle": "2020-11-26T11:34:46.829263Z",
     "shell.execute_reply": "2020-11-26T11:34:46.828474Z"
    }
   },
   "outputs": [],
   "source": [
    "# target and masker\n",
    "[x_target, fs] = sf.read('data/xmas.wav')  # target sound\n",
    "x_noise = 0.25*np.random.randn(len(x_target))  # gaussian noise as masker\n",
    "# play around with the directions!\n",
    "theta_target = 0  # in degree\n",
    "theta_noise = 90  # in degree\n",
    "# interate over all patterns\n",
    "for aa in a:\n",
    "    A_target = np.abs(aa + (1-aa)*np.cos(theta_target*np.pi/180))\n",
    "    A_noise = np.abs(aa + (1-aa)*np.cos(theta_noise*np.pi/180))\n",
    "    x_mix = A_target*x_target + A_noise*x_noise\n",
    "    sd.play(x_mix, fs, blocking=True)"
   ]
  },
  {
   "cell_type": "markdown",
   "metadata": {},
   "source": [
    "#### Short Demo\n",
    "\n",
    "One Loudspeaker is placed in front of a microphone, another loudspeaker is placed somewhere else. The first loudspeaker emits speech, while the second emits noise. We will compare the recorded signals for two different microphone capsules: one omnidirectional, one hyper-cardiod."
   ]
  },
  {
   "cell_type": "code",
   "execution_count": null,
   "metadata": {
    "execution": {
     "iopub.execute_input": "2020-11-26T11:34:46.834251Z",
     "iopub.status.busy": "2020-11-26T11:34:46.833836Z",
     "iopub.status.idle": "2020-11-26T11:34:49.709337Z",
     "shell.execute_reply": "2020-11-26T11:34:49.708907Z"
    }
   },
   "outputs": [],
   "source": [
    "[x_target, fs] = sf.read('data/xmas.wav')  # target sound\n",
    "x_noise = np.random.randn(len(x_target))  # gaussian noise as masker\n",
    "x_mix = np.column_stack((0.2*x_target,0.1*x_noise))  # two-channel signal\n",
    "\n",
    "# play and record simultaneously (change microphones in between)\n",
    "x_rec_omni = sd.playrec(x_mix, samplerate=fs, channels=1, output_mapping=[1,2], blocking=True)\n",
    "# x_rec_card = sd.playrec(x_mix, samplerate=fs, channels=1, output_mapping=[1,2], blocking=True)"
   ]
  },
  {
   "cell_type": "markdown",
   "metadata": {},
   "source": [
    "Let's listen to the recorded signals!"
   ]
  },
  {
   "cell_type": "code",
   "execution_count": null,
   "metadata": {
    "execution": {
     "iopub.execute_input": "2020-11-26T11:34:49.712616Z",
     "iopub.status.busy": "2020-11-26T11:34:49.711942Z",
     "iopub.status.idle": "2020-11-26T11:34:52.448614Z",
     "shell.execute_reply": "2020-11-26T11:34:52.449064Z"
    }
   },
   "outputs": [],
   "source": [
    "x_rec_omni = x_rec_omni/np.max(np.abs(x_rec_omni))\n",
    "# x_rec_card = x_rec_card/np.max(np.abs(x_rec_card))\n",
    "\n",
    "sd.play(0.05*x_rec_omni, samplerate=fs, blocking=True)\n",
    "# sd.play(0.05*x_rec_card, samplerate=fs, blocking=True)"
   ]
  },
  {
   "cell_type": "markdown",
   "metadata": {},
   "source": [
    "### The Directivity Factor\n",
    "\n",
    "The directivity factor describes the ratio between the squared directivity for the frontal direction, i.e. $\\Theta = 0$, and the mean squared directivity. For the rotationally symmetric directivity this reads\n",
    "\n",
    "$$\n",
    "  \\gamma(\\omega) = \\frac{M_0^2(0^\\circ)}{\\frac{1}{2}\\int_0^\\pi M_0^2(\\Theta)\\, \\sin(\\Theta) \\, \\mathrm d \\Theta}\n",
    "$$\n",
    "\n",
    "*Exercise*: Calculate the directivity-index for a general first-order directivity pattern $M_0(\\Theta) = a + (1-a) \\cos( \\Theta)$."
   ]
  },
  {
   "cell_type": "markdown",
   "metadata": {},
   "source": [
    "<font color='blue'>\n",
    "*\n",
    "For the directivity-index, we need the integral in the denominator\n",
    "$$\n",
    "\\int_0^\\pi (a+(a-1)\\cos(\\Theta))^2 \\sin(\\theta)\\, \\mathrm d \\Theta =\n",
    "\\int_0^\\pi \\left( a^2 + 2a(a-1)\\cos(\\Theta) + (a-1)^2\\cos^2(\\Theta)\\right) \\sin(\\Theta) \\, \\mathrm d \\Theta\n",
    "$$\n",
    "\n",
    "Substitute $u = \\cos(\\Theta)$ which yields $\\mathrm du = - \\mathrm \\sin(\\Theta) \\mathrm d \\Theta$. This results in the equivalent integral\n",
    "\n",
    "$$\n",
    "\\int_{-1}^{1} \\left( a^2 + 2a(a-1)u + (a-1)^2 u^2\\right) \\, \\mathrm d u = 2\\left[a^2 + \\frac{1}{3}(a-1)^2 \\right]\n",
    "$$\n",
    "\n",
    "The final directivity-factor reads\n",
    "\n",
    "$$\n",
    "  \\gamma(a, \\omega) = \\frac{1}{a^2 + \\frac{1}{3}(a-1)^2}\n",
    "$$\n",
    "*\n",
    "</font>"
   ]
  },
  {
   "cell_type": "markdown",
   "metadata": {},
   "source": [
    "Exercise: For which $a$ does $\\gamma(a, \\omega)$ reach a maximum? To which directivity pattern does the value correspond?"
   ]
  },
  {
   "cell_type": "markdown",
   "metadata": {},
   "source": [
    "<font color='blue'>\n",
    "*\n",
    "A local extremum is possibly reached if the first derivative is zero .\n",
    "$$\n",
    "  \\frac{\\partial}{\\partial a} \\gamma(a, \\omega) = \\frac{2a+\\frac{2}{3}(a-1)}{(a^2 + \\frac{1}{3}(a-1)^2)^2} = 0\n",
    "$$\n",
    "Multiplying both side with the denominator yields\n",
    "$$ \n",
    "  2a+\\frac{2}{3}(a-1) = 0 \\Rightarrow a = \\frac{1}{4}\n",
    "$$\n",
    "This value corresponds to a hyper-cardiod pattern\n",
    "*\n",
    "</font>"
   ]
  },
  {
   "cell_type": "markdown",
   "metadata": {},
   "source": [
    "## Solutions\n",
    "\n",
    "If you had problems solving some of the exercises, don't despair!\n",
    "Have a look at the [example solutions](microphones-solutions.ipynb)."
   ]
  },
  {
   "cell_type": "markdown",
   "metadata": {},
   "source": [
    "<p xmlns:dct=\"http://purl.org/dc/terms/\">\n",
    "  <a rel=\"license\"\n",
    "     href=\"http://creativecommons.org/publicdomain/zero/1.0/\">\n",
    "    <img src=\"http://i.creativecommons.org/p/zero/1.0/88x31.png\" style=\"border-style: none;\" alt=\"CC0\" />\n",
    "  </a>\n",
    "  <br />\n",
    "  To the extent possible under law,\n",
    "  <span rel=\"dct:publisher\" resource=\"[_:publisher]\">the person who associated CC0</span>\n",
    "  with this work has waived all copyright and related or neighboring\n",
    "  rights to this work.\n",
    "</p>"
   ]
  }
 ],
 "metadata": {
  "kernelspec": {
   "display_name": "mystiasp",
   "language": "python",
   "name": "mystiasp"
  },
  "language_info": {
   "codemirror_mode": {
    "name": "ipython",
    "version": 3
   },
   "file_extension": ".py",
   "mimetype": "text/x-python",
   "name": "python",
   "nbconvert_exporter": "python",
   "pygments_lexer": "ipython3",
   "version": "3.7.8"
  }
 },
 "nbformat": 4,
 "nbformat_minor": 1
}
