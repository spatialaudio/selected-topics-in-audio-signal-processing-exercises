{
 "cells": [
  {
   "cell_type": "markdown",
   "metadata": {},
   "source": [
    "# Sound Field Analysis\n",
    "\n",
    "[return to main page](index.ipynb)\n",
    "\n",
    "## Preparations"
   ]
  },
  {
   "cell_type": "code",
   "execution_count": null,
   "metadata": {},
   "outputs": [],
   "source": [
    "import tools\n",
    "import numpy as np\n",
    "import sounddevice as sd  # for playback\n",
    "import soundfile as sf  # for reading a soundfile\n",
    "from scipy import signal\n",
    "\n",
    "# remove \"inline\" to get a separate plotting window:\n",
    "%matplotlib inline  \n",
    "import matplotlib.pyplot as plt\n",
    "\n",
    "\n",
    "def compute_kx_spectrum(kx, theta_pw, omega, dx, M, c=343):\n",
    "    X_kx = np.zeros(shape=(len(omega), len(kx)), dtype=complex)\n",
    "    for n, k in enumerate(omega/c):\n",
    "        for dm in np.arange(M)*dx:\n",
    "            X_kx[n, :] += np.exp(-1j * dm * (k * np.cos(theta_pw) - kx))\n",
    "            \n",
    "    return X_kx/M\n",
    "\n",
    "# it's just plotting the pattern\n",
    "def plot_kx_spectrum(X_k, kx, omega):\n",
    "    \n",
    "    X_k = X_k / np.max(np.abs(X_k[:]))\n",
    "    \n",
    "    plt.figure(figsize=(10,10))\n",
    "    plt.pcolormesh(kx, omega/(2*np.pi), 20*np.log10(np.abs(X_k)), cmap='viridis')\n",
    "    plt.colormaps()\n",
    "    plt.ylim([0, 3000])\n",
    "    plt.xlim([-50, 50])\n",
    "    plt.colorbar()\n",
    "    plt.clim([-60,0])\n",
    "\n",
    "    plt.xlabel(r'$k_x$ in rad/m')\n",
    "    plt.ylabel('$f$ in Hz')\n",
    "    plt.title(r'$|\\tilde{P}(k_x, \\theta_{pw}, \\omega)|$ in dB')\n",
    "\n",
    "def compute_dsb_beampattern(theta, theta_pw, omega, dx, M, c=343):\n",
    "    X_pw = np.zeros(shape=(len(omega), len(theta_pw)), dtype=complex)\n",
    "    for n, k in enumerate(omega/c):\n",
    "        for dm in np.arange(M)*dx:\n",
    "            X_pw[n, :] += np.exp(-1j * k * dm * (np.cos(theta_pw) - np.cos(theta)))\n",
    "            \n",
    "    return X_pw/M\n",
    "\n",
    "# it's just plotting the pattern\n",
    "def plot_dsb_beampattern(X_pw, theta_pw, omega):\n",
    "    \n",
    "    X_pw = X_pw / np.max(np.abs(X_pw[:]))\n",
    "    \n",
    "    plt.figure(figsize=(10,10))\n",
    "    plt.pcolormesh(theta_pw/np.pi*180, omega/(2*np.pi), 20*np.log10(np.abs(X_pw)), cmap='viridis')\n",
    "    plt.colormaps()\n",
    "    plt.ylim([0, 8000])\n",
    "    plt.xlim([0, 180])\n",
    "    plt.colorbar()\n",
    "    plt.clim([-60,0])\n",
    "\n",
    "    plt.xlabel(r'$\\theta_{pw}$ in deg')\n",
    "    plt.ylabel('$f$ in Hz')\n",
    "    plt.title(r'$|\\bar{P}(\\theta, \\theta_{pw}, \\omega)|$ in dB')\n"
   ]
  },
  {
   "cell_type": "markdown",
   "metadata": {},
   "source": [
    "# Linear Microphone Arrays\n",
    "\n",
    "\n",
    "### Spatio-Temporal Fourier Spectrum and Plane Wave Decomposition\n",
    "\n",
    "The [Spatio-Temporal Fourier Spectrum](linear_systems_II.ipynb#The-Spatial-Transfer-Function) of a Sound Field reads\n",
    "\n",
    "$$ \\tilde P(\\mathbf k, \\omega) = \\int_{-\\infty}^{\\infty} \\int_{-\\infty}^{\\infty} \\int_{-\\infty}^{\\infty} P(x,y,z,\\omega) e^{+jk_x x} e^{+jk_y y} e^{+jk_z z} \\,\\mathrm d x\\,\\mathrm d y\\,\\mathrm d z$$\n",
    "\n",
    "We already got to know the temporal spectrum of a [plane wave](physics_of_sound_I-solutions.ipynb#Plane-Wave) with a direction of propagation $\\mathbf n_{\\mathrm {pw}}$ which reads\n",
    "\n",
    "$$P_{pw}(\\mathbf x, \\omega) = \\mathrm{exp}\\left(-j\\frac{\\omega}{c} \\mathbf n_{\\mathrm {pw}} \\cdot \\mathbf x \\right) = \\mathrm{exp}\\left(-j\\frac{\\omega}{c} (n_{\\mathrm {pw},x} \\cdot x + n_{\\mathrm {pw},y} \\cdot y + n_{\\mathrm {pw},z} \\cdot z) \\right) \\,. $$\n",
    "\n",
    "We also derived its [Spatio-Temporal Fourier Transform](linear_systems_II.ipynb#Spatial-Temporal-Fourier-Transform-of-a-Plane-Wave)\n",
    "\n",
    "$$\n",
    "\\tilde P_{pw}(\\mathbf k, \\omega) = \n",
    "    2\\pi \\delta\\left(k_x-\\frac{\\omega}{c} n_{\\mathrm {pw},x}\\right) \\cdot\n",
    "    2\\pi \\delta\\left(k_y-\\frac{\\omega}{c} n_{\\mathrm {pw},y}\\right) \\cdot\n",
    "    2\\pi \\delta\\left(k_z-\\frac{\\omega}{c} n_{\\mathrm {pw},z}\\right)\n",
    "    =\n",
    "    (2\\pi)^3 \\delta\\left(\\mathbf k -\\frac{\\omega}{c} \\mathbf n_{\\mathrm {pw}}\\right)\n",
    "$$"
   ]
  },
  {
   "cell_type": "code",
   "execution_count": null,
   "metadata": {},
   "outputs": [],
   "source": [
    "omega = 2*np.pi * np.linspace(20, 3000, 100)  # evaluated angular frequencies\n",
    "kx = np.linspace(-50, 50, 300)  # evaluated kx\n",
    "theta_pw = np.pi/4 # incident plane wave\n",
    "dx = 0.01\n",
    "M = 1000\n",
    "\n",
    "P_kx = compute_kx_spectrum(kx, theta_pw, omega, dx, M)\n",
    "plot_kx_spectrum(P_kx, kx, omega)"
   ]
  },
  {
   "cell_type": "markdown",
   "metadata": {},
   "source": [
    "For a general sound field $P(\\mathbf x,\\omega)$, we now know that the value of its Spatio-Temporal Fourier Transform $\\tilde P(\\mathbf k, \\omega)$ at $\\mathbf k = \\frac{\\omega}{c} \\mathbf n_{\\mathrm {pw}}$ corresponds to the amplitude of the plane wave propagation in the direction of $\\mathbf n_{\\mathrm {pw}}$. This can be straightforwardly used to compute the so-called plane wave composition of the sound field. It reads\n",
    "\n",
    "$$\n",
    "\\bar P(\\mathbf n_{\\mathrm {pw}}) = \\tilde P(\\mathbf k, \\omega)|_{\\mathbf k = \\frac{\\omega}{c} \\mathbf n_{\\mathrm {pw}}}\n",
    "$$\n",
    "\n",
    "If we know $\\tilde P(\\mathbf k, \\omega)$ then we automatically know $\\bar P(\\mathbf n_{\\mathrm {pw}})$. \n",
    "\n",
    "## Delay-and-Sum Beamformer\n",
    "\n",
    "A linear microphone captures the sound field along a line in space. Let's assume, we have defined our coordinate system such that this line is $x$-axis, i.e. $\\mathbf x = [x, 0, 0]^T$. The sound field on the $x$-axis is known by the measurement of the array, we can compute the spatial Fourier transform w.r.t $x$\n",
    "\n",
    "$$ \\tilde P(k_x, 0, 0, \\omega) = \\int_{-\\infty}^{\\infty} P(x,0,0,\\omega) e^{+jk_x x}\\,\\mathrm d x$$"
   ]
  },
  {
   "cell_type": "markdown",
   "metadata": {},
   "source": [
    "### Infinite,  Continous Array"
   ]
  },
  {
   "cell_type": "code",
   "execution_count": null,
   "metadata": {},
   "outputs": [],
   "source": [
    "omega = 2*np.pi * np.linspace(20, 8000, 100)  # evaluated angular frequencies\n",
    "theta_pw = np.linspace(0, np.pi, 181)  # evaluated incident plane waves\n",
    "dx = 0.01 # distance between microphones (approx. zero)\n",
    "M = 10000  # total number of microphones  (approx. infinite)\n",
    "theta = np.pi/4  # steering direction\n",
    "\n",
    "X_pw = compute_dsb_beampattern(theta, theta_pw, omega, dx, M)\n",
    "plot_dsb_beampattern(X_pw, theta_pw, omega)"
   ]
  },
  {
   "cell_type": "markdown",
   "metadata": {},
   "source": [
    "### Infinite, Discrete Array"
   ]
  },
  {
   "cell_type": "code",
   "execution_count": null,
   "metadata": {},
   "outputs": [],
   "source": [
    "omega = 2*np.pi * np.linspace(20, 8000, 100)  # evaluated angular frequencies\n",
    "theta_pw = np.linspace(0, np.pi, 181)  # evaluated incident plane waves\n",
    "dx = 0.06 # distance between microphones\n",
    "M = 1000  # total number of microphones (approx. infinite)\n",
    "theta = np.pi/4  # steering direction\n",
    "\n",
    "X_pw = compute_dsb_beampattern(theta, theta_pw, omega, dx, M)\n",
    "plot_dsb_beampattern(X_pw, theta_pw, omega)"
   ]
  },
  {
   "cell_type": "markdown",
   "metadata": {},
   "source": [
    "### Truncated, Continous Array"
   ]
  },
  {
   "cell_type": "code",
   "execution_count": null,
   "metadata": {},
   "outputs": [],
   "source": [
    "omega = 2*np.pi * np.linspace(20, 8000, 100)  # evaluated angular frequencies\n",
    "theta_pw = np.linspace(0, np.pi, 361)  # evaluated incident plane waves\n",
    "M = 1000 # total number of microphones\n",
    "dx = 1.0/M # distance between microphones\n",
    "theta = np.pi/4  # steering direction\n",
    "\n",
    "X_pw = compute_dsb_beampattern(theta, theta_pw, omega, dx, M)\n",
    "plot_dsb_beampattern(X_pw, theta_pw, omega)"
   ]
  },
  {
   "cell_type": "markdown",
   "metadata": {},
   "source": [
    "### Truncated, Continous Array"
   ]
  },
  {
   "cell_type": "code",
   "execution_count": null,
   "metadata": {},
   "outputs": [],
   "source": [
    "omega = 2*np.pi * np.linspace(20, 8000, 100)  # evaluated angular frequencies\n",
    "theta_pw = np.linspace(0, np.pi, 361)  # evaluated incident plane waves\n",
    "M = 10 # total number of microphones\n",
    "dx = 0.5/M # distance between microphones\n",
    "theta = np.pi/2  # steering direction\n",
    "\n",
    "X_pw = compute_dsb_beampattern(theta, theta_pw, omega, dx, M)\n",
    "plot_dsb_beampattern(X_pw, theta_pw, omega)"
   ]
  },
  {
   "cell_type": "markdown",
   "metadata": {},
   "source": [
    "### A real Array in a real Room\n",
    "\n",
    "#### Measurements (Optional)\n",
    "\n",
    "A long as you don't have a sound card with 8 input channels and 2 output channels together with 8 microphones and 2 loudspeaker, executing the following code doesn't make much sense. Check the next section to load the measurements from .wav-files."
   ]
  },
  {
   "cell_type": "code",
   "execution_count": null,
   "metadata": {},
   "outputs": [],
   "source": [
    "# check id of sound card\n",
    "sd.query_devices()"
   ]
  },
  {
   "cell_type": "code",
   "execution_count": null,
   "metadata": {},
   "outputs": [],
   "source": [
    "sd.default.device = 0  # HAMMERFALL DSP\n",
    "input_channels = np.arange(9,17)  # all 8 ADAT input channels\n",
    "\n",
    "[x_target, fs] = sf.read('data/xmas.wav')  # target sound\n",
    "x_target *= 0.01\n",
    "x_noise = 0.007*np.random.randn(len(x_target))  # gaussian noise as masker\n",
    "x_mix = np.column_stack((x_target, x_noise))\n",
    "\n",
    "# record signal 1\n",
    "x_rec_one = sd.playrec(x_noise,\n",
    "                   samplerate=fs,\n",
    "                   input_mapping=input_channels, \n",
    "                   output_mapping=1, \n",
    "                   blocking=True)\n",
    "\n",
    "# record signal 2\n",
    "x_rec_two = sd.playrec(x_noise, \n",
    "                   samplerate=fs,\n",
    "                   input_mapping=input_channels, \n",
    "                   output_mapping=2, \n",
    "                   blocking=True)\n",
    "\n",
    "# record mix\n",
    "x_rec_mix = sd.playrec(x_mix, \n",
    "                   samplerate=fs,\n",
    "                   input_mapping=input_channels, \n",
    "                   output_mapping=[1,2], \n",
    "                   blocking=True)\n",
    "\n",
    "# save files\n",
    "sf.write(x_rec_one, 'data/sfa/noise_rec_one.wav', fs)     \n",
    "sf.write(x_rec_two, 'data/sfa/noise_rec_two.wav', fs)\n",
    "sf.write(x_rec_mix, 'data/sfa/xmas_noise_rec.wav', fs)"
   ]
  },
  {
   "cell_type": "markdown",
   "metadata": {},
   "source": [
    "#### Load the Files "
   ]
  },
  {
   "cell_type": "code",
   "execution_count": null,
   "metadata": {},
   "outputs": [],
   "source": [
    "x_rec_one, fs = sf.read('data/sfa/noise_rec_one.wav')\n",
    "x_rec_two, _ = sf.read('data/sfa/noise_rec_two.wav')\n",
    "x_rec_mix, _ = sf.read('data/sfa/xmas_noise_rec.wav')\n",
    "\n",
    "n, _ = np.shape(x_rec_one)"
   ]
  },
  {
   "cell_type": "markdown",
   "metadata": {},
   "source": [
    "#### Beamforming\n",
    "\n",
    "A function for DSB-Beamforming with the recorded signals"
   ]
  },
  {
   "cell_type": "code",
   "execution_count": null,
   "metadata": {},
   "outputs": [],
   "source": [
    "def dsb_beamforming(x_rec, theta, dx, M, nfft, c=343):\n",
    "    # get temporal spectrum (DFT)\n",
    "    X_rec = np.fft.rfft(x_rec, n=nfft, axis=0)\n",
    "    omega = 2*np.pi*np.fft.rfftfreq(nfft, 1/fs)\n",
    "    \n",
    "    # get plane wave decomposition using DSB\n",
    "    X_pw = np.zeros((len(omega),len(theta)), dtype='complex')\n",
    "    for tdx, th in enumerate(theta):\n",
    "        for ddx, dm in enumerate(np.arange(M)*dx):\n",
    "            X_pw[:,tdx] += X_rec[:,ddx]*np.exp(-1j*omega/c*dm*np.cos(th))\n",
    "    \n",
    "    return X_pw/M, omega"
   ]
  },
  {
   "cell_type": "markdown",
   "metadata": {},
   "source": [
    "For the first loudspeaker"
   ]
  },
  {
   "cell_type": "code",
   "execution_count": null,
   "metadata": {},
   "outputs": [],
   "source": [
    "dx = 0.12 # distance between microphones\n",
    "M = 8 # total number of microphones (approx. infinite)\n",
    "theta = np.linspace(0, np.pi, 181) # steering directions\n",
    "\n",
    "X_pw_one, omega = dsb_beamforming(x_rec_one, theta, dx, M, 2*n)\n",
    "plot_dsb_beampattern(X_pw_one, theta, omega)"
   ]
  },
  {
   "cell_type": "markdown",
   "metadata": {},
   "source": [
    "..., for the second loudspeaker"
   ]
  },
  {
   "cell_type": "code",
   "execution_count": null,
   "metadata": {},
   "outputs": [],
   "source": [
    "dx = 0.12 # distance between microphones\n",
    "M = 8 # total number of microphones (approx. infinite)\n",
    "theta = np.linspace(0, np.pi, 181) # steering directions\n",
    "\n",
    "X_pw_two, omega = dsb_beamforming(x_rec_two, theta, dx, M, 2*n)\n",
    "plot_dsb_beampattern(X_pw_two, theta, omega)"
   ]
  },
  {
   "cell_type": "markdown",
   "metadata": {},
   "source": [
    "..., and the mix."
   ]
  },
  {
   "cell_type": "code",
   "execution_count": null,
   "metadata": {},
   "outputs": [],
   "source": [
    "dx = 0.12 # distance between microphones\n",
    "M = 8 # total number of microphones (approx. infinite)\n",
    "theta = np.linspace(0, np.pi, 181) # steering directions\n",
    "\n",
    "X_pw_mix, omega = dsb_beamforming(x_rec_mix, theta, dx, M, 2*n)\n",
    "plot_dsb_beampattern(X_pw_mix, theta, omega)"
   ]
  },
  {
   "cell_type": "markdown",
   "metadata": {},
   "source": [
    "What happens, if the switch off every second microphone? Why?"
   ]
  },
  {
   "cell_type": "code",
   "execution_count": null,
   "metadata": {},
   "outputs": [],
   "source": [
    "dx = 0.12 # distance between microphones\n",
    "M = 8 # total number of microphones (approx. infinite)\n",
    "theta = np.linspace(0, np.pi, 181) # steering directions\n",
    "\n",
    "x_rec_one_sub = x_rec_one\n",
    "x_rec_one_sub[:,0:7:2] = 0\n",
    "\n",
    "X_pw_one_sub, omega = dsb_beamforming(x_rec_one_sub, theta, dx, M, 2*n)\n",
    "plot_dsb_beampattern(X_pw_one_sub, theta, omega)"
   ]
  },
  {
   "cell_type": "markdown",
   "metadata": {},
   "source": [
    "What happens, if the switch off the first two and the last two microphones? Why?"
   ]
  },
  {
   "cell_type": "code",
   "execution_count": null,
   "metadata": {},
   "outputs": [],
   "source": [
    "dx = 0.12 # distance between microphones\n",
    "M = 8 # total number of microphones (approx. infinite)\n",
    "theta = np.linspace(0, np.pi, 181) # steering directions\n",
    "\n",
    "x_rec_one_trunc = x_rec_one\n",
    "x_rec_one_trunc[:,0:1] = 0\n",
    "x_rec_one_trunc[:,6:7] = 0\n",
    "\n",
    "X_pw_one_trunc, omega = dsb_beamforming(x_rec_one_trunc, theta, dx, M, 2*n)\n",
    "plot_dsb_beampattern(X_pw_one_trunc, theta, omega)"
   ]
  },
  {
   "cell_type": "markdown",
   "metadata": {},
   "source": [
    "#### Listen"
   ]
  },
  {
   "cell_type": "code",
   "execution_count": null,
   "metadata": {},
   "outputs": [],
   "source": [
    "x_pw_one = np.fft.irfft(X_pw_one, axis=0)\n",
    "x_pw_two = np.fft.irfft(X_pw_two, axis=0)\n",
    "x_pw_mix = np.fft.irfft(X_pw_mix, axis=0)"
   ]
  },
  {
   "cell_type": "code",
   "execution_count": null,
   "metadata": {},
   "outputs": [],
   "source": [
    "direction = 45\n",
    "\n",
    "sd.play(0.05*x_pw_mix[:,direction], \n",
    "        samplerate=fs,\n",
    "        mapping=1, \n",
    "        blocking=True)"
   ]
  },
  {
   "cell_type": "code",
   "execution_count": null,
   "metadata": {},
   "outputs": [],
   "source": [
    "x_rec_one"
   ]
  },
  {
   "cell_type": "markdown",
   "metadata": {},
   "source": [
    "<p xmlns:dct=\"http://purl.org/dc/terms/\">\n",
    "  <a rel=\"license\"\n",
    "     href=\"http://creativecommons.org/publicdomain/zero/1.0/\">\n",
    "    <img src=\"http://i.creativecommons.org/p/zero/1.0/88x31.png\" style=\"border-style: none;\" alt=\"CC0\" />\n",
    "  </a>\n",
    "  <br />\n",
    "  To the extent possible under law,\n",
    "  <span rel=\"dct:publisher\" resource=\"[_:publisher]\">the person who associated CC0</span>\n",
    "  with this work has waived all copyright and related or neighboring\n",
    "  rights to this work.\n",
    "</p>"
   ]
  },
  {
   "cell_type": "code",
   "execution_count": null,
   "metadata": {},
   "outputs": [],
   "source": []
  }
 ],
 "metadata": {
  "kernelspec": {
   "display_name": "mystiasp",
   "language": "python",
   "name": "mystiasp"
  },
  "language_info": {
   "codemirror_mode": {
    "name": "ipython",
    "version": 3
   },
   "file_extension": ".py",
   "mimetype": "text/x-python",
   "name": "python",
   "nbconvert_exporter": "python",
   "pygments_lexer": "ipython3",
   "version": "3.7.8"
  }
 },
 "nbformat": 4,
 "nbformat_minor": 1
}
