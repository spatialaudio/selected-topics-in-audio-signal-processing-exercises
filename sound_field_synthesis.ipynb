{
 "cells": [
  {
   "cell_type": "markdown",
   "metadata": {},
   "source": [
    "# Sound Field Synthesis\n",
    "\n",
    "[return to main page](index.ipynb)\n",
    "\n",
    "## Preparations"
   ]
  },
  {
   "cell_type": "code",
   "execution_count": null,
   "metadata": {
    "execution": {
     "iopub.execute_input": "2020-11-26T11:35:34.415521Z",
     "iopub.status.busy": "2020-11-26T11:35:34.415045Z",
     "iopub.status.idle": "2020-11-26T11:35:35.115781Z",
     "shell.execute_reply": "2020-11-26T11:35:35.116422Z"
    }
   },
   "outputs": [],
   "source": [
    "from matplotlib import pyplot as plt\n",
    "import sfs  # tested for version 0.5.0\n",
    "import numpy as np\n",
    "import scipy.special"
   ]
  },
  {
   "cell_type": "markdown",
   "metadata": {},
   "source": [
    "## Basic Principle\n",
    "\n",
    "<img src=\"data/sfs/sfs_discrete.png\" width=\"400\"/>\n",
    "\n",
    "The goal is to synthesize the sound field of a virtual source $S(\\mathbf{x},\\omega)$ within the listening area (yellow) with an ensemble of individually driven secondary sources (loudspeakers) surrounding the area. The reproduced sound field given as\n",
    "\n",
    "$$\n",
    "P(\\mathbf{x},\\omega) = \\sum_{l=1}^{L} D(\\mathbf{x}_l,\\omega) \\; G(\\mathbf{x}|\\mathbf{x}_l,\\omega)\n",
    "$$\n",
    "\n",
    "which states the superposition of the sound fields $G(\\mathbf{x}|\\mathbf{x}_l,\\omega)$ emitted by each individual secondary sources. Here, each loudspeaker emits its respective **driving signal** $D(\\mathbf{x}_l,\\omega)$. \n",
    "\n",
    "<img src=\"data/sfs/sfs_continuous.png\" width=\"400\"/>\n",
    "\n",
    "For the continuous case, i.e. the spacing between the secondary sources is zero, the sum migrates to an integral\n",
    "\n",
    "$$\n",
    "P(\\mathbf{x},\\omega)=\\oint_{\\partial V} D(\\mathbf{x}_0,\\omega) \\; G(\\mathbf{x} | \\mathbf{x}_0,\\omega) \\; \\mathrm{d}A(\\mathbf{x}_0)\n",
    "$$\n",
    "\n",
    "which is the so-called **Single Layer Potential**. It needs to be solved for $D(\\mathbf{x}_0,\\omega)$ under the condition $P(\\mathbf{x},\\omega) = S(\\mathbf{x},\\omega)$. Most approaches assume that the all secondary source emit the same sound field $G(\\mathbf{x}|\\mathbf{x}_0,\\omega) = G(\\mathbf{x} - \\mathbf{x}_0,\\omega)$ and free-field propagation. The loudspeakers sound field is modelled as a point source by the free-field Green's function $G_0$\n",
    "\n",
    "$$\n",
    "P(\\mathbf{x},\\omega)=\\oint_{\\partial V} D(\\mathbf{x}_0,\\omega) \\; G_0(\\mathbf{x} - \\mathbf{x}_0,\\omega) \\; \\mathrm{d}A(\\mathbf{x}_0)\n",
    "$$\n",
    "\n",
    "Under the assumptions made in the prior section, the *Single Layer Potential* describes a convolution along surface $\\partial V$. In the following, we get to know some approaches for solving it."
   ]
  },
  {
   "cell_type": "markdown",
   "metadata": {},
   "source": [
    "## Explicit Solution\n",
    "\n",
    "### Analogies to the Time-Domain\n",
    "\n",
    "Let's make a small step back and see how we conveniently solve a similar problem in a different domain, namely the time-domain: We assume, that we have measured the output signal $y(t)$ of a LTI-System with unknown impulse response $h(t)$ given the input signal $x(t)$. The three entities are connected over the convolution integral\n",
    "\n",
    "$$\n",
    "y(t) = \\int_{-\\infty}^{\\infty} x(\\tau) h(t-\\tau) \\mathrm d \\tau\\,.\n",
    "$$\n",
    "\n",
    "In order to determine $h(t)$ we have to solve the integral equation with respect to $h(t)$. We can express the signals as the inverse Fourier transform using its respective Fourier spectrum, see\n",
    "\n",
    "$$\n",
    "y(t) = \\frac{1}{2 \\pi} \\int_{-\\infty}^{\\infty} Y(j\\omega) e^{+j\\omega t} \\mathrm d \\omega \\\\\n",
    "x(\\tau) = \\frac{1}{2 \\pi} \\int_{-\\infty}^{\\infty} X(j\\omega) e^{+j\\omega \\tau} \\mathrm d \\omega\n",
    "\\\\\n",
    "h(t-\\tau) = \\frac{1}{2 \\pi} \\int_{-\\infty}^{\\infty} H(j\\omega) e^{+j\\omega t} e^{-j\\omega \\tau} \\mathrm d \\omega\n",
    "$$\n",
    "\n",
    "We expanded each signal as a superposition of weigthed basis functions $\\Psi(\\omega,t)$. The weights are the Fourier Spectra, e.g. $Y(j\\omega)$, and the basis functions $\\Psi(\\omega,t)$ are the expontentials, e.g. $e^{+j\\omega t}$.\n",
    "A very important property of this basis functions $e^{+j\\omega t}$ is its orthogonality\n",
    "\n",
    "$$\n",
    "\\int_{-\\infty}^{\\infty} e^{+j\\omega_1 t} e^{-j\\omega_2 t} \\mathrm d t = \n",
    "2\\pi \\delta(\\omega_1 - \\omega_2)\n",
    "$$\n",
    "\n",
    "with respect to the integral $\\int_{-\\infty}^{\\infty} \\mathrm d t$. We insert the expansion into the convolution integral:\n",
    "\n",
    "$$\n",
    "\\frac{1}{2 \\pi} \\int_{-\\infty}^{\\infty} Y(j\\omega) e^{+j\\omega t} \\mathrm d \\omega = \n",
    "\\color{red}{\\int_{-\\infty}^{\\infty}}\n",
    "    \\Big[ \n",
    "    \\frac{1}{2 \\pi} \\int_{-\\infty}^{\\infty} X(j\\omega_1)\\;\\color{red}{e^{+j\\omega_1 \\tau}} \\;\\mathrm d \\omega_1\n",
    "    \\frac{1}{2 \\pi} \\int_{-\\infty}^{\\infty} H(j\\omega_2)\\;e^{+j\\omega_2 t}\\;\\color{red}{e^{-j\\omega_2 \\tau}} \\;\\mathrm d \\omega_2\n",
    "    \\Big]\n",
    "\\color{red}{\\mathrm d \\tau}\n",
    "$$\n",
    "\n",
    "We can now solve the integral with respect to $\\tau$ (red) using the orthogonality of the exponentials. This results in\n",
    "\n",
    "$$\n",
    "\\frac{1}{2 \\pi} \\int_{-\\infty}^{\\infty} Y(j\\omega) e^{+j\\omega t} \\mathrm d \\omega = \n",
    "    \\frac{1}{2 \\pi} \n",
    "    \\int_{-\\infty}^{\\infty} \\int_{-\\infty}^{\\infty} X(j\\omega_1) \n",
    "     H(j\\omega_2) e^{+j\\omega_2 t} \\delta(\\omega_1 - \\omega_2) \\, \\mathrm d \\omega_1 \\mathrm d \\omega_2\n",
    "$$\n",
    "\n",
    "The integral with respect to $\\omega_1$ can be solved by the identity for the dirac delta distribution\n",
    "\n",
    "$$\n",
    "\\int_{-\\infty}^{\\infty} F(\\omega_1) \\delta(\\omega_1 - \\omega_2) \\, \\mathrm d \\omega_1 =  F(\\omega_2)\n",
    "$$\n",
    "\n",
    "The result reads\n",
    "\n",
    "$$\n",
    "\\frac{1}{2 \\pi} \\int_{-\\infty}^{\\infty} \\color{blue}{Y(j\\omega)} e^{+j\\omega t} \\mathrm d \\omega = \n",
    "\\frac{1}{2 \\pi}  \\int_{-\\infty}^{\\infty} \\color{blue}{X(j\\omega_2) H(j\\omega_2)} e^{+j\\omega_2 t} \\mathrm d \\omega_2 \\,.\n",
    "$$\n",
    "\n",
    "Besides the integration variables, the integrals are the same, so the terms within the integrals are equal. We can hence infer, that a convolution of two signals in the time-domain results in a multiplication of the respective spectra in the frequency-domain. Hence, we can get the spectrum of the impulse response via\n",
    "\n",
    "$$\n",
    "H(j\\omega) = \\frac{Y(j\\omega)}{X(j\\omega)}\n",
    "$$\n",
    "\n",
    "and the impulse response via the inverse Fourier transform\n",
    "\n",
    "$$\n",
    "h(t) = \\frac{1}{2 \\pi} \\int_{-\\infty}^{\\infty} \\frac{Y(j\\omega)}{X(j\\omega)} e^{+j\\omega t}\n",
    "$$\n",
    "\n",
    "What have we learned? First of all, we have to know the basis function, with are orthogonal \n",
    "with respect to the integral defined by the convolution. We can solve the convolution integral with respect to $h(t)$ expanding the entities into this basic function, and divide the resulting spectra of $x(t)$ and $y(t)$. $h(t)$ is then given by the inverse transform."
   ]
  },
  {
   "cell_type": "markdown",
   "metadata": {},
   "source": [
    "### Solving the Single Layer Potential\n",
    "\n",
    "Let's get back to the original Problem:\n",
    "\n",
    "$$\n",
    "P(\\mathbf{x},\\omega)=\\oint_{\\partial V} D(\\mathbf{x}_0,\\omega) \\; G_0(\\mathbf{x} - \\mathbf{x}_0,\\omega) \\; \\mathrm{d}A(\\mathbf{x}_0)\n",
    "$$\n",
    "\n",
    "Obviously the convolution is now defined with regard to space along a 2-dimensional surface. As this surface is closed, the functions defined on it have to be periodic: If one moves around the surface back to the original starting point, the functions have to yield the same values. We know from the time-domain that periodic signals are expressed into basis functions using the Fourier series. Contrary to the Fourier Transform, the Fourier series is only defined for frequencies being an integer multiple $n$ of the fundamental frequency $f_0 = \\frac{1}{T}$, where $T$ is the period of the signal. The spatial spectra of function on the surface are hence discrete and the frequency variable is an integer, e.g. $n$.\n",
    "\n",
    "Assuming that we know the basis functions $\\Psi_n(\\mathbf{x}_0)$, which are orthogonal on the surface, i.e.\n",
    "\n",
    "$$\n",
    "\\oint_{\\partial V} \\Psi_{n_2}(\\mathbf{x}_0) \\Psi^*_{n_1}(\\mathbf{x}_0) \\; \\mathrm{d}A(\\mathbf{x}_0) = a_{n_1} \\delta[n_1 - n_2]\\,,\n",
    "$$\n",
    "\n",
    "we can expand the involved function over the basis functions\n",
    "\n",
    "$$\n",
    "P(\\mathbf{x},\\omega)= \\sum_{n=0}^{\\infty} \\tilde P_n(\\omega) \\Psi_n(\\mathbf{x})\\\\\n",
    "D(\\mathbf{x},\\omega)= \\sum_{n=0}^{\\infty} \\tilde D_n(\\omega) \\Psi_n(\\mathbf{x})\\\\\n",
    "G(\\mathbf{x},\\omega)= \\sum_{n=0}^{\\infty} \\tilde G_n(\\omega) \\Psi_n(\\mathbf{x})\n",
    "$$\n",
    "\n",
    "with $P_n$, $D_n$, and $G_n$ being the respective spatial spectra. The spatial spectrum of the driving is computed analogue to the time-domain example via\n",
    "$$\n",
    "\\tilde D_n(\\omega) = \\frac{\\tilde P_n(\\omega)}{\\tilde G_n(\\omega)}\\,.\n",
    "$$\n",
    "\n",
    "The final driving signal is given as\n",
    "$$\n",
    "D(\\mathbf{x},\\omega) = \\sum_{n=0}^{\\infty} \\frac{\\tilde P_n(\\omega)}{a_n \\tilde G_n(\\omega)} \\Psi_n(\\mathbf{x})\\,.\n",
    "$$\n",
    "\n",
    "In general, finding the basis function for a specific surface shape is challenging, if not impossible. The explicit solution of the Single Layer Potential is hence only feasible for simple geometries such as spheres, circles, or planes."
   ]
  },
  {
   "cell_type": "markdown",
   "metadata": {},
   "source": [
    "### Circular Geometries\n",
    "\n",
    "For a circular distribution of secondary sources, the single layer potential reads\n",
    "\n",
    "$$\n",
    "P(\\mathbf{x},\\omega)= \\int_0^{2\\pi} D(\\phi_0,\\omega) \\; G_0(\\mathbf{x} - \\mathbf{x}_0,\\omega) \\;R\\;\\mathrm d \\phi_0\n",
    "$$\n",
    "\n",
    "For this convolution integral, the basic functions are given as $\\Psi_n(\\mathbf{x}) = e^{+j\\phi n}$ and $a_n = 2\\pi$ and $n \\in (-\\infty; \\infty)$. As this is two-dimensional scenario, we also need the two-dimensional Green's function which is a [line source](physics_of_sound_I.ipynb#Line-Source)\n",
    "\n",
    "$$\n",
    "G_0(\\mathbf{x} - \\mathbf{x}_0,\\omega) = -\\frac{j}{4} H_0\\left( \\frac{\\omega}{c} \\sqrt{(x-x_0)^2 + (y-y_0)^2}\\right)\n",
    "$$\n",
    "\n",
    "It's angular spectrum is given as \n",
    "\n",
    "$$\n",
    "\\tilde G_n(\\omega) = -\\frac{j}{4}\\;H_n\\left(\\frac{\\omega}{c} R\\right)\\;J_n\\left(\\frac{\\omega}{c} r\\right)\n",
    "$$\n",
    "\n",
    "We use the [cylindrical Hankel functions of 2nd kind](https://dlmf.nist.gov/10.2#ii) of order $n$, especially of order $0$ for $H_0$.\n",
    "\n",
    "For the desired sound field we choose a plane wave\n",
    "\n",
    "$$\n",
    "P_{pw}(\\mathbf x, \\omega) = \\mathrm{exp}\\left(-j\\frac{\\omega}{c} \\mathbf n_{\\mathrm {pw}} \\cdot \\mathbf x \\right)\n",
    "$$\n",
    "\n",
    "with propagation direction $\\mathbf n_{\\mathrm {pw}} = [\\cos \\phi_{pw}, \\sin \\phi_{pw}, 0]^T$ and the angular spectrum\n",
    "\n",
    "$$\n",
    "P_n(\\omega) = j^{-n} e^{-jn\\phi_{pw}}\\;J_n\\left(\\frac{\\omega}{c} r\\right)\n",
    "$$\n",
    "\n",
    "The resulting spatial spectrum of the driving signal reads\n",
    "\n",
    "$$\n",
    "D_n(\\omega) = \\frac{1}{2\\pi R} \\frac{j^{-n} e^{-jn\\phi_{pw}}}{-\\frac{j}{4}\\;H_n\\left(\\frac{\\omega}{c} R\\right)}\n",
    "= \\frac{2}{\\pi R}\\;\\frac{j^{-n+1} e^{-jn\\phi_{pw}}}{H_n\\left(\\frac{\\omega}{c} R\\right)}\n",
    "$$\n",
    "\n",
    "In practice, we have to truncate the summation:\n",
    "\n",
    "$$\n",
    "D(\\mathbf{x},\\omega) \\approx \\sum_{n=-M}^{M} D_n(\\omega)\\,e^{+j\\phi n}.\n",
    "$$"
   ]
  },
  {
   "cell_type": "markdown",
   "metadata": {},
   "source": [
    "Let's start to code a little bit to understand the concept by an example."
   ]
  },
  {
   "cell_type": "code",
   "execution_count": null,
   "metadata": {
    "execution": {
     "iopub.execute_input": "2020-11-26T11:35:35.127677Z",
     "iopub.status.busy": "2020-11-26T11:35:35.120385Z",
     "iopub.status.idle": "2020-11-26T11:35:35.131063Z",
     "shell.execute_reply": "2020-11-26T11:35:35.131515Z"
    }
   },
   "outputs": [],
   "source": [
    "def nfchoa_2d_plane(omega, x0, r0, n=[0, 1, 0], max_order=None, c=None):\n",
    "    \"\"\"Plane wave by two-dimensional NFC-HOA.\n",
    "\n",
    "    from the sound field synthesis toolbox with minor modifications\n",
    "\n",
    "    ::\n",
    "\n",
    "                               __\n",
    "                       2i     \\        i^-m\n",
    "        D(phi0,w) = - -----   /__   ----------  e^(i m (phi0-phi_pw))\n",
    "                      pi r0 m=-N..N  (2)\n",
    "                                    Hm  (w/c r0)\n",
    "\n",
    "    \"\"\"\n",
    "    x0 = sfs.util.asarray_of_rows(x0)\n",
    "    k = sfs.util.wavenumber(omega, c)\n",
    "    alpha, beta, r = sfs.util.cart2sph(n[0], n[1], n[2])\n",
    "    alpha0, beta0, tmp = sfs.util.cart2sph(x0[:, 0], x0[:, 1], x0[:, 2])\n",
    "    # determine max order of circular harmonics\n",
    "    M = len(x0) // 2 if max_order is None else max_order\n",
    "    # compute driving function\n",
    "    d = 0\n",
    "    for m in np.arange(-M, M):\n",
    "        d = d + 1j**(-m) / scipy.special.hankel2(m, k * r0) * \\\n",
    "            np.exp(1j * m * (alpha0 - alpha))\n",
    "\n",
    "    # 2020-11-11: added np.exp(-1j*np.pi/4), to be double checked!\n",
    "    return 2j / (np.pi*r0) * d * np.exp(-1j*np.pi/4)\n",
    "\n",
    "\n",
    "def nfchoa_2d_plane_modal(omega, m, r0, n=[0, 1, 0], max_order=None, c=None):\n",
    "    \"\"\"get modal coefficients of above used Plane wave by two-dimensional NFC-HOA.\n",
    "\n",
    "    from the sound field synthesis toolbox with minor modifications\n",
    "\n",
    "    ::\n",
    "\n",
    "                               __\n",
    "                       2i     \\        i^-m\n",
    "        D(phi0,w) = - -----   /__   ----------  e^(i m (phi0-phi_pw))\n",
    "                      pi r0 m=-N..N  (2)\n",
    "                                    Hm  (w/c r0)\n",
    "\n",
    "    \"\"\"\n",
    "    k = sfs.util.wavenumber(omega, c)\n",
    "    alpha, beta, r = sfs.util.cart2sph(n[0], n[1], n[2])\n",
    "    # compute driving function\n",
    "    dm = np.zeros(np.shape(m), dtype='complex')\n",
    "    for idx, mu in enumerate(m):\n",
    "        dm[idx] = 1j**(-mu) /\\\n",
    "            scipy.special.hankel2(mu, k * r0) * np.exp(1j * mu * (- alpha))\n",
    "\n",
    "    # 2020-11-11: added np.exp(-1j*np.pi/4), to be double checked!\n",
    "    return 2j / (np.pi*r0) * dm * np.exp(-1j*np.pi/4)\n",
    "\n",
    "\n",
    "def plot_circ_spectrum(Dm, m, omega, omega_ref):\n",
    "    \"\"\"plot the modal spectrum over mode index and frequency.\"\"\"\n",
    "    # Dm = Dm / np.max(np.abs(Dm[:]))\n",
    "\n",
    "    plt.pcolormesh(m, omega/(2*np.pi), 20*np.log10(np.abs(Dm)), cmap='viridis')\n",
    "    plt.plot([-100, +100], [omega_ref/2/np.pi, omega_ref/2/np.pi], 'C7')\n",
    "    plt.ylim([np.min(omega/(2*np.pi)), np.max(omega/(2*np.pi))])\n",
    "    plt.xlim([np.min(m), np.max(m)])\n",
    "    plt.colorbar()\n",
    "    plt.clim([-60, 20])\n",
    "\n",
    "    plt.xlabel(r'mode index $m$')\n",
    "    plt.ylabel('$f$ / Hz')\n",
    "    plt.title(r'color: $20\\,\\log_{10}|D_m|$ / dB')"
   ]
  },
  {
   "cell_type": "code",
   "execution_count": null,
   "metadata": {
    "execution": {
     "iopub.execute_input": "2020-11-26T11:35:35.134872Z",
     "iopub.status.busy": "2020-11-26T11:35:35.133547Z",
     "iopub.status.idle": "2020-11-26T11:35:35.136886Z",
     "shell.execute_reply": "2020-11-26T11:35:35.137615Z"
    }
   },
   "outputs": [],
   "source": [
    "grid = sfs.util.xyz_grid(\n",
    "    [-2, 2], [-2, 2], 0, spacing=0.01)  # grid for plotting\n",
    "R = 2  # radius of circular array (m)"
   ]
  },
  {
   "cell_type": "code",
   "execution_count": null,
   "metadata": {
    "execution": {
     "iopub.execute_input": "2020-11-26T11:35:35.157661Z",
     "iopub.status.busy": "2020-11-26T11:35:35.157092Z",
     "iopub.status.idle": "2020-11-26T11:35:35.161037Z",
     "shell.execute_reply": "2020-11-26T11:35:35.161718Z"
    }
   },
   "outputs": [],
   "source": [
    "npw = 1, 0, 0  # progagation direction of plane wave\n",
    "f = 343*3  # time-frequency (Hz), then wave length is 1/3 m\n",
    "omega = 2 * np.pi * f  # angular frequency (rad/s)\n",
    "M = 100  # modal order"
   ]
  },
  {
   "cell_type": "code",
   "execution_count": null,
   "metadata": {
    "execution": {
     "iopub.execute_input": "2020-11-26T11:35:35.165194Z",
     "iopub.status.busy": "2020-11-26T11:35:35.164471Z",
     "iopub.status.idle": "2020-11-26T11:35:36.027768Z",
     "shell.execute_reply": "2020-11-26T11:35:36.028164Z"
    }
   },
   "outputs": [],
   "source": [
    "N = 100  # number of monopoles, enough to simulate a quasi-continuous array\n",
    "array = sfs.array.circular(N, R)  # circular array\n",
    "\n",
    "# above defined driving function\n",
    "d = nfchoa_2d_plane(omega, array.x, R, n=npw, max_order=M)\n",
    "\n",
    "p = sfs.fd.synthesize(d, np.ones(N), array, sfs.fd.secondary_source_point(\n",
    "    omega, sfs.default.c), grid=grid)\n",
    "\n",
    "sfs.plot2d.amplitude(p, grid)\n",
    "sfs.plot2d.loudspeakers(array.x, array.n, array.a)\n",
    "plt.grid(True)"
   ]
  },
  {
   "cell_type": "code",
   "execution_count": null,
   "metadata": {
    "execution": {
     "iopub.execute_input": "2020-11-26T11:35:36.033840Z",
     "iopub.status.busy": "2020-11-26T11:35:36.033396Z",
     "iopub.status.idle": "2020-11-26T11:35:36.534764Z",
     "shell.execute_reply": "2020-11-26T11:35:36.535303Z"
    }
   },
   "outputs": [],
   "source": [
    "N = 50\n",
    "array = sfs.array.circular(N, R)  # circular array\n",
    "\n",
    "# use above defined driving function\n",
    "# check how the spatial aliasing region and the intended planar wave front\n",
    "# changes if we set up different\n",
    "# max_order = 1  # what actually happens here?!\n",
    "# max_order = N//2-1  # this is a practical used case\n",
    "# max_order = M  # compare this with WFS!\n",
    "d = nfchoa_2d_plane(omega, array.x, R, n=npw, max_order=N//2-1)\n",
    "\n",
    "p = sfs.fd.synthesize(d, np.ones(N), array, sfs.fd.secondary_source_point(\n",
    "    omega, sfs.default.c), grid=grid)\n",
    "\n",
    "sfs.plot2d.amplitude(p, grid)\n",
    "sfs.plot2d.loudspeakers(array.x, array.n, array.a)\n",
    "plt.grid(True)"
   ]
  },
  {
   "cell_type": "markdown",
   "metadata": {},
   "source": [
    "## Modal Spectrum\n",
    "\n",
    "### No Spatial Aliasing\n",
    "\n",
    "due to Quasi-Continuous Array\n"
   ]
  },
  {
   "cell_type": "code",
   "execution_count": null,
   "metadata": {
    "execution": {
     "iopub.execute_input": "2020-11-26T11:35:36.538818Z",
     "iopub.status.busy": "2020-11-26T11:35:36.538445Z",
     "iopub.status.idle": "2020-11-26T11:35:36.540941Z",
     "shell.execute_reply": "2020-11-26T11:35:36.540497Z"
    }
   },
   "outputs": [],
   "source": [
    "omega = 2 * np.pi * np.linspace(300, 3000, 100)  # angular frequency (rad/s)\n",
    "m = np.arange(-100, 101)  # modal variable"
   ]
  },
  {
   "cell_type": "code",
   "execution_count": null,
   "metadata": {
    "execution": {
     "iopub.execute_input": "2020-11-26T11:35:36.739894Z",
     "iopub.status.busy": "2020-11-26T11:35:36.739488Z",
     "iopub.status.idle": "2020-11-26T11:35:37.106021Z",
     "shell.execute_reply": "2020-11-26T11:35:37.106414Z"
    }
   },
   "outputs": [],
   "source": [
    "Dm = np.zeros((len(omega), len(m)), dtype='complex')\n",
    "for idx, om in enumerate(omega):\n",
    "    Dm[idx, :] = nfchoa_2d_plane_modal(om, m, R, n=npw)  # driving signals\n",
    "\n",
    "plot_circ_spectrum(Dm, m, omega, 2*np.pi*f)"
   ]
  },
  {
   "cell_type": "markdown",
   "metadata": {},
   "source": [
    "### Spatial Aliasing\n",
    "\n",
    "due to Discrete Array\n",
    "\n",
    "In the above example with `N=50` loudspeakers we might restrict the `max_order = N//2-1`, which is 24. Regarding the plot below, can you explain this choice? What do we support or rather avoid for certain regions in the plot?"
   ]
  },
  {
   "cell_type": "code",
   "execution_count": null,
   "metadata": {
    "execution": {
     "iopub.execute_input": "2020-11-26T11:35:37.110254Z",
     "iopub.status.busy": "2020-11-26T11:35:37.109852Z",
     "iopub.status.idle": "2020-11-26T11:35:38.785077Z",
     "shell.execute_reply": "2020-11-26T11:35:38.785541Z"
    }
   },
   "outputs": [],
   "source": [
    "N = 50  # number of loudspeakers\n",
    "mu = np.arange(-3, 4)  # spatial aliasing == spectral repetitions of the modes\n",
    "\n",
    "Dm = np.zeros((len(omega), len(m)), dtype='complex')\n",
    "for idx, om in enumerate(omega):\n",
    "    for shift in N*mu:\n",
    "        Dm[idx, :] = Dm[idx, :] + \\\n",
    "            nfchoa_2d_plane_modal(om, m-shift, R, n=npw)  # driving signal\n",
    "\n",
    "plot_circ_spectrum(Dm, m, omega, 2*np.pi*f)"
   ]
  },
  {
   "cell_type": "markdown",
   "metadata": {},
   "source": [
    "# Implicit Solution\n",
    "\n",
    "Wave Field Synthesis (WFS)\n",
    "\n",
    "- theory tutorial: https://git.iem.at/zotter/wfs-basics\n",
    "- latest WFS findings with a very good WFS overview: https://last.hit.bme.hu/download/firtha/PhD_thesis/firtha_phd_thesis.pdf\n",
    "\n",
    "WFS driving functions contain **infinite modal order** and are obtained under assumption that **far-field/high-frequency conditions** hold. WFS is a so called **implicit** solution of the sound field synthesis problem, because we do not explicitly solve the integral for the driving function, but rather think about what it should be implicitly to obtain a desired sound field.  \n",
    "\n",
    "A comparison between explicit and implicit solution is found in this recent [paper](https://github.com/spatialaudio/sfs-with-local-wavenumber-vector-concept/blob/master/daga2019/Schultz_2019_HOA_vs_WFS_DAGA_Slides_1.00.pdf), in this [paper](https://www.int.uni-rostock.de/fileadmin/user_upload/publications/spors/2009/AES126_Ahrens_etal_timbral_coloration.pdf) and in this [book](https://link.springer.com/book/10.1007/978-3-642-25743-8)\n",
    "\n",
    "The implicit solution therefore has no `modal_order` parameter (or is rather infinite number of modes) to calculate WFS driving functions. Thus, if we have not enough loudspeakers `N`, we have to accept spatial aliasing.\n",
    "\n",
    "- Play around with different `N` and check where the spatial aliasing region and where (if any) a spatial aliasing free region occurs. Can you explain why this is the case.\n",
    "- Also play around with the frequency `f` and link the finding to the spatial sampling theorem."
   ]
  },
  {
   "cell_type": "code",
   "execution_count": null,
   "metadata": {
    "execution": {
     "iopub.execute_input": "2020-11-26T11:35:38.788993Z",
     "iopub.status.busy": "2020-11-26T11:35:38.788588Z",
     "iopub.status.idle": "2020-11-26T11:35:38.790564Z",
     "shell.execute_reply": "2020-11-26T11:35:38.790153Z"
    }
   },
   "outputs": [],
   "source": [
    "def plot(d, selection, secondary_source):\n",
    "    p = sfs.fd.synthesize(d, selection, array, secondary_source, grid=grid)\n",
    "    sfs.plot2d.amplitude(p, grid)\n",
    "    sfs.plot2d.loudspeakers(array.x, array.n, selection * array.a, size=0.15)"
   ]
  },
  {
   "cell_type": "code",
   "execution_count": null,
   "metadata": {
    "execution": {
     "iopub.execute_input": "2020-11-26T11:35:38.794196Z",
     "iopub.status.busy": "2020-11-26T11:35:38.793744Z",
     "iopub.status.idle": "2020-11-26T11:35:39.290614Z",
     "shell.execute_reply": "2020-11-26T11:35:39.291105Z"
    }
   },
   "outputs": [],
   "source": [
    "N = 100\n",
    "array = sfs.array.circular(N, R)  # circular array\n",
    "d, selection, secondary_source = sfs.fd.wfs.plane_25d(\n",
    "    2*np.pi*f, array.x, array.n, npw)\n",
    "plot(d, selection, secondary_source)"
   ]
  },
  {
   "cell_type": "code",
   "execution_count": null,
   "metadata": {
    "execution": {
     "iopub.execute_input": "2020-11-26T11:35:39.295586Z",
     "iopub.status.busy": "2020-11-26T11:35:39.294956Z",
     "iopub.status.idle": "2020-11-26T11:35:39.655395Z",
     "shell.execute_reply": "2020-11-26T11:35:39.655933Z"
    }
   },
   "outputs": [],
   "source": [
    "N = 50\n",
    "array = sfs.array.circular(N, R)  # circular array\n",
    "d, selection, secondary_source = sfs.fd.wfs.plane_25d(\n",
    "    2*np.pi*f, array.x, array.n, npw)\n",
    "plot(d, selection, secondary_source)"
   ]
  },
  {
   "cell_type": "markdown",
   "metadata": {},
   "source": [
    "<p xmlns:dct=\"http://purl.org/dc/terms/\">\n",
    "  <a rel=\"license\"\n",
    "     href=\"http://creativecommons.org/publicdomain/zero/1.0/\">\n",
    "    <img src=\"http://i.creativecommons.org/p/zero/1.0/88x31.png\" style=\"border-style: none;\" alt=\"CC0\" />\n",
    "  </a>\n",
    "  <br />\n",
    "  To the extent possible under law,\n",
    "  <span rel=\"dct:publisher\" resource=\"[_:publisher]\">the person who associated CC0</span>\n",
    "  with this work has waived all copyright and related or neighboring\n",
    "  rights to this work.\n",
    "</p>"
   ]
  }
 ],
 "metadata": {
  "kernelspec": {
   "display_name": "mystiasp",
   "language": "python",
   "name": "mystiasp"
  },
  "language_info": {
   "codemirror_mode": {
    "name": "ipython",
    "version": 3
   },
   "file_extension": ".py",
   "mimetype": "text/x-python",
   "name": "python",
   "nbconvert_exporter": "python",
   "pygments_lexer": "ipython3",
   "version": "3.7.8"
  }
 },
 "nbformat": 4,
 "nbformat_minor": 1
}
